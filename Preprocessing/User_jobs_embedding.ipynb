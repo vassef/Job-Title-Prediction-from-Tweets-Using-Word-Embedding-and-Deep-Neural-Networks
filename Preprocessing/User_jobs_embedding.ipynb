{
 "cells": [
  {
   "cell_type": "code",
   "execution_count": 40,
   "id": "f8749139",
   "metadata": {},
   "outputs": [],
   "source": [
    "import pandas as pd\n",
    "import numpy as np\n",
    "from scipy import spatial\n",
    "import matplotlib.pyplot as plt\n",
    "from sklearn.manifold import TSNE\n",
    "import seaborn as sns\n",
    "%matplotlib inline\n",
    "import seaborn as sn\n",
    "import matplotlib.pyplot as plt\n",
    "import sklearn.cluster\n",
    "import distance"
   ]
  },
  {
   "cell_type": "code",
   "execution_count": 61,
   "id": "7c9c01d3",
   "metadata": {
    "scrolled": true
   },
   "outputs": [
    {
     "data": {
      "text/html": [
       "<div>\n",
       "<style scoped>\n",
       "    .dataframe tbody tr th:only-of-type {\n",
       "        vertical-align: middle;\n",
       "    }\n",
       "\n",
       "    .dataframe tbody tr th {\n",
       "        vertical-align: top;\n",
       "    }\n",
       "\n",
       "    .dataframe thead th {\n",
       "        text-align: right;\n",
       "    }\n",
       "</style>\n",
       "<table border=\"1\" class=\"dataframe\">\n",
       "  <thead>\n",
       "    <tr style=\"text-align: right;\">\n",
       "      <th></th>\n",
       "      <th>username</th>\n",
       "      <th>name</th>\n",
       "      <th>tweet</th>\n",
       "      <th>hashtags</th>\n",
       "      <th>Jobs</th>\n",
       "      <th>bio</th>\n",
       "    </tr>\n",
       "  </thead>\n",
       "  <tbody>\n",
       "    <tr>\n",
       "      <th>1313</th>\n",
       "      <td>HaifaWehbe</td>\n",
       "      <td>Haifa Wehbe</td>\n",
       "      <td>['@paulina_kero @antoniosabd 4.8.2021 and this...</td>\n",
       "      <td>happyeaster</td>\n",
       "      <td>singer , actress</td>\n",
       "      <td></td>\n",
       "    </tr>\n",
       "    <tr>\n",
       "      <th>309</th>\n",
       "      <td>loyzagadiegs</td>\n",
       "      <td>Diego Loyzaga</td>\n",
       "      <td>['Do you like to play Play-To-Earn games? Get ...</td>\n",
       "      <td>encountersagupaan,encountersabotahe,bekisonthe...</td>\n",
       "      <td>model , actor , video jockey</td>\n",
       "      <td>Actor. 🇵🇭🇪🇸🇦🇺 Only the strong survives IG: die...</td>\n",
       "    </tr>\n",
       "    <tr>\n",
       "      <th>950</th>\n",
       "      <td>Riteishd</td>\n",
       "      <td>Riteish Deshmukh</td>\n",
       "      <td>['Happy Birthday @nindusanj - have a great one...</td>\n",
       "      <td>tokyoparalympics,thalaivi,sushilkumarshinde,si...</td>\n",
       "      <td>actor , television presenter , film producer</td>\n",
       "      <td>Proud Father, Devoted Husband, 14-Time World C...</td>\n",
       "    </tr>\n",
       "    <tr>\n",
       "      <th>424</th>\n",
       "      <td>stephaniekelton</td>\n",
       "      <td>Stephanie Kelton</td>\n",
       "      <td>['It took 48 hours, but we surpassed 500,000 v...</td>\n",
       "      <td>fridaynightzillow,thedeficitsthatmatter</td>\n",
       "      <td>economist , academic</td>\n",
       "      <td>@LFC | @JM7foundation | @NikeUK athlete | Inst...</td>\n",
       "    </tr>\n",
       "    <tr>\n",
       "      <th>690</th>\n",
       "      <td>alyssavaldez2</td>\n",
       "      <td>Alyssa Valdez</td>\n",
       "      <td>['Good luck, Ej!! #ConfideceInTomorrow 💙', '@a...</td>\n",
       "      <td>confideceintomorrow,confidenceintomorrow,planf...</td>\n",
       "      <td>volleyball player</td>\n",
       "      <td>I LOVE therefore I AM ❤🙏🏻 https://t.co/GCqNBJ471L</td>\n",
       "    </tr>\n",
       "    <tr>\n",
       "      <th>...</th>\n",
       "      <td>...</td>\n",
       "      <td>...</td>\n",
       "      <td>...</td>\n",
       "      <td>...</td>\n",
       "      <td>...</td>\n",
       "      <td>...</td>\n",
       "    </tr>\n",
       "    <tr>\n",
       "      <th>1188</th>\n",
       "      <td>DjKingAssassin</td>\n",
       "      <td>Dj King Assassin</td>\n",
       "      <td>[\"We couldn't have the instruments no more in ...</td>\n",
       "      <td>theturntables,janetjackson,facts,djkingassassi...</td>\n",
       "      <td>disc jockey , producer , engineer</td>\n",
       "      <td>mompreneur, actress, writer, host, influencer|...</td>\n",
       "    </tr>\n",
       "    <tr>\n",
       "      <th>211</th>\n",
       "      <td>layzhang</td>\n",
       "      <td>Lay Zhang</td>\n",
       "      <td>[\"Let's dance tonight in fashion^^  https://t....</td>\n",
       "      <td>lit_physical_album,producer,krump,peaceandlove...</td>\n",
       "      <td>rapper , singer , songwriter , record producer...</td>\n",
       "      <td>Music producer|Singer|Dancer|Actor| Email: inf...</td>\n",
       "    </tr>\n",
       "    <tr>\n",
       "      <th>380</th>\n",
       "      <td>pascrellfornj</td>\n",
       "      <td>Bill Pascrell, Jr.</td>\n",
       "      <td>['What I remember most about that dark day 20 ...</td>\n",
       "      <td>equalpay,laborday</td>\n",
       "      <td>politician</td>\n",
       "      <td>you found him. ✨</td>\n",
       "    </tr>\n",
       "    <tr>\n",
       "      <th>1281</th>\n",
       "      <td>KendraWilkinson</td>\n",
       "      <td>Kendra Wilkinson</td>\n",
       "      <td>[\"Sky's the limit. #KendraSellsHollywood  http...</td>\n",
       "      <td>kendrasellshollywood,kendrasellshollywood,kend...</td>\n",
       "      <td>television personality , model</td>\n",
       "      <td></td>\n",
       "    </tr>\n",
       "    <tr>\n",
       "      <th>893</th>\n",
       "      <td>jimmycarr</td>\n",
       "      <td>Jimmy Carr</td>\n",
       "      <td>['Spoiler Alert: Sports Personality of the Yea...</td>\n",
       "      <td>itscominghomecanyouleaveitwithaneighbourandill...</td>\n",
       "      <td>actor , comedian , television presenter , writer</td>\n",
       "      <td>man in a suitcase.</td>\n",
       "    </tr>\n",
       "  </tbody>\n",
       "</table>\n",
       "<p>100 rows × 6 columns</p>\n",
       "</div>"
      ],
      "text/plain": [
       "             username                name  \\\n",
       "1313       HaifaWehbe         Haifa Wehbe   \n",
       "309      loyzagadiegs       Diego Loyzaga   \n",
       "950          Riteishd   Riteish Deshmukh    \n",
       "424   stephaniekelton    Stephanie Kelton   \n",
       "690     alyssavaldez2       Alyssa Valdez   \n",
       "...               ...                 ...   \n",
       "1188   DjKingAssassin    Dj King Assassin   \n",
       "211          layzhang           Lay Zhang   \n",
       "380     pascrellfornj  Bill Pascrell, Jr.   \n",
       "1281  KendraWilkinson    Kendra Wilkinson   \n",
       "893         jimmycarr          Jimmy Carr   \n",
       "\n",
       "                                                  tweet  \\\n",
       "1313  ['@paulina_kero @antoniosabd 4.8.2021 and this...   \n",
       "309   ['Do you like to play Play-To-Earn games? Get ...   \n",
       "950   ['Happy Birthday @nindusanj - have a great one...   \n",
       "424   ['It took 48 hours, but we surpassed 500,000 v...   \n",
       "690   ['Good luck, Ej!! #ConfideceInTomorrow 💙', '@a...   \n",
       "...                                                 ...   \n",
       "1188  [\"We couldn't have the instruments no more in ...   \n",
       "211   [\"Let's dance tonight in fashion^^  https://t....   \n",
       "380   ['What I remember most about that dark day 20 ...   \n",
       "1281  [\"Sky's the limit. #KendraSellsHollywood  http...   \n",
       "893   ['Spoiler Alert: Sports Personality of the Yea...   \n",
       "\n",
       "                                               hashtags  \\\n",
       "1313                                        happyeaster   \n",
       "309   encountersagupaan,encountersabotahe,bekisonthe...   \n",
       "950   tokyoparalympics,thalaivi,sushilkumarshinde,si...   \n",
       "424             fridaynightzillow,thedeficitsthatmatter   \n",
       "690   confideceintomorrow,confidenceintomorrow,planf...   \n",
       "...                                                 ...   \n",
       "1188  theturntables,janetjackson,facts,djkingassassi...   \n",
       "211   lit_physical_album,producer,krump,peaceandlove...   \n",
       "380                                   equalpay,laborday   \n",
       "1281  kendrasellshollywood,kendrasellshollywood,kend...   \n",
       "893   itscominghomecanyouleaveitwithaneighbourandill...   \n",
       "\n",
       "                                                   Jobs  \\\n",
       "1313                                   singer , actress   \n",
       "309                        model , actor , video jockey   \n",
       "950        actor , television presenter , film producer   \n",
       "424                                economist , academic   \n",
       "690                                   volleyball player   \n",
       "...                                                 ...   \n",
       "1188                  disc jockey , producer , engineer   \n",
       "211   rapper , singer , songwriter , record producer...   \n",
       "380                                          politician   \n",
       "1281                     television personality , model   \n",
       "893    actor , comedian , television presenter , writer   \n",
       "\n",
       "                                                    bio  \n",
       "1313                                                     \n",
       "309   Actor. 🇵🇭🇪🇸🇦🇺 Only the strong survives IG: die...  \n",
       "950   Proud Father, Devoted Husband, 14-Time World C...  \n",
       "424   @LFC | @JM7foundation | @NikeUK athlete | Inst...  \n",
       "690   I LOVE therefore I AM ❤🙏🏻 https://t.co/GCqNBJ471L  \n",
       "...                                                 ...  \n",
       "1188  mompreneur, actress, writer, host, influencer|...  \n",
       "211   Music producer|Singer|Dancer|Actor| Email: inf...  \n",
       "380                                    you found him. ✨  \n",
       "1281                                                     \n",
       "893                                  man in a suitcase.  \n",
       "\n",
       "[100 rows x 6 columns]"
      ]
     },
     "execution_count": 61,
     "metadata": {},
     "output_type": "execute_result"
    }
   ],
   "source": [
    "data=pd.read_excel('User_FInfo.xlsx',sheet_name='sheet_1')\n",
    "data=data.fillna('')\n",
    "data.sample(100)"
   ]
  },
  {
   "cell_type": "code",
   "execution_count": 47,
   "id": "25909d74",
   "metadata": {},
   "outputs": [
    {
     "data": {
      "text/plain": [
       "0                       model\n",
       "1      football wide receiver\n",
       "2                      singer\n",
       "3                     actress\n",
       "4                       actor\n",
       "                ...          \n",
       "520                    singer\n",
       "521                     judge\n",
       "522          fashion designer\n",
       "523     baritone opera singer\n",
       "524            soprano singer\n",
       "Length: 525, dtype: object"
      ]
     },
     "execution_count": 47,
     "metadata": {},
     "output_type": "execute_result"
    }
   ],
   "source": [
    "titles =pd.Series(pd.Series(\" ,\".join(list(data['Jobs'].unique())).split(',')).unique())\n",
    "titles=titles.str.strip().str.lower()\n",
    "titles"
   ]
  },
  {
   "cell_type": "code",
   "execution_count": 48,
   "id": "d71af40b",
   "metadata": {},
   "outputs": [],
   "source": [
    "from sklearn.feature_extraction.text import CountVectorizer\n",
    "def plot_topn(sentences, ngram_range=(1,3), top=20,firstword=''):\n",
    "    c=CountVectorizer(ngram_range=ngram_range)\n",
    "    X=c.fit_transform(sentences)\n",
    "    words=pd.DataFrame(X.sum(axis=0),columns=c.get_feature_names()).T.sort_values(0,ascending=False).reset_index()\n",
    "    res=words[words['index'].apply(lambda x: firstword in x)].head(top)\n",
    "    pl=px.bar(res, x='index',y=0)\n",
    "    pl.update_layout(yaxis_title='count',xaxis_title='Phrases')\n",
    "    pl.show()"
   ]
  },
  {
   "cell_type": "code",
   "execution_count": 73,
   "id": "d2a5ed14",
   "metadata": {},
   "outputs": [
    {
     "data": {
      "application/vnd.plotly.v1+json": {
       "config": {
        "plotlyServerURL": "https://plot.ly"
       },
       "data": [
        {
         "alignmentgroup": "True",
         "hovertemplate": "index=%{x}<br>0=%{y}<extra></extra>",
         "legendgroup": "",
         "marker": {
          "color": "#636efa",
          "pattern": {
           "shape": ""
          }
         },
         "name": "",
         "offsetgroup": "",
         "orientation": "v",
         "showlegend": false,
         "textposition": "auto",
         "type": "bar",
         "x": [
          "television",
          "artist",
          "host",
          "personality",
          "singer",
          "football",
          "film",
          "writer",
          "producer",
          "political",
          "activist",
          "sports",
          "songwriter",
          "band",
          "actor",
          "director",
          "rock",
          "player",
          "fashion",
          "comedian"
         ],
         "xaxis": "x",
         "y": [
          26,
          19,
          18,
          18,
          16,
          16,
          16,
          14,
          13,
          12,
          11,
          11,
          11,
          11,
          11,
          10,
          9,
          8,
          8,
          8
         ],
         "yaxis": "y"
        }
       ],
       "layout": {
        "barmode": "relative",
        "legend": {
         "tracegroupgap": 0
        },
        "margin": {
         "t": 60
        },
        "template": {
         "data": {
          "bar": [
           {
            "error_x": {
             "color": "#2a3f5f"
            },
            "error_y": {
             "color": "#2a3f5f"
            },
            "marker": {
             "line": {
              "color": "#E5ECF6",
              "width": 0.5
             },
             "pattern": {
              "fillmode": "overlay",
              "size": 10,
              "solidity": 0.2
             }
            },
            "type": "bar"
           }
          ],
          "barpolar": [
           {
            "marker": {
             "line": {
              "color": "#E5ECF6",
              "width": 0.5
             },
             "pattern": {
              "fillmode": "overlay",
              "size": 10,
              "solidity": 0.2
             }
            },
            "type": "barpolar"
           }
          ],
          "carpet": [
           {
            "aaxis": {
             "endlinecolor": "#2a3f5f",
             "gridcolor": "white",
             "linecolor": "white",
             "minorgridcolor": "white",
             "startlinecolor": "#2a3f5f"
            },
            "baxis": {
             "endlinecolor": "#2a3f5f",
             "gridcolor": "white",
             "linecolor": "white",
             "minorgridcolor": "white",
             "startlinecolor": "#2a3f5f"
            },
            "type": "carpet"
           }
          ],
          "choropleth": [
           {
            "colorbar": {
             "outlinewidth": 0,
             "ticks": ""
            },
            "type": "choropleth"
           }
          ],
          "contour": [
           {
            "colorbar": {
             "outlinewidth": 0,
             "ticks": ""
            },
            "colorscale": [
             [
              0,
              "#0d0887"
             ],
             [
              0.1111111111111111,
              "#46039f"
             ],
             [
              0.2222222222222222,
              "#7201a8"
             ],
             [
              0.3333333333333333,
              "#9c179e"
             ],
             [
              0.4444444444444444,
              "#bd3786"
             ],
             [
              0.5555555555555556,
              "#d8576b"
             ],
             [
              0.6666666666666666,
              "#ed7953"
             ],
             [
              0.7777777777777778,
              "#fb9f3a"
             ],
             [
              0.8888888888888888,
              "#fdca26"
             ],
             [
              1,
              "#f0f921"
             ]
            ],
            "type": "contour"
           }
          ],
          "contourcarpet": [
           {
            "colorbar": {
             "outlinewidth": 0,
             "ticks": ""
            },
            "type": "contourcarpet"
           }
          ],
          "heatmap": [
           {
            "colorbar": {
             "outlinewidth": 0,
             "ticks": ""
            },
            "colorscale": [
             [
              0,
              "#0d0887"
             ],
             [
              0.1111111111111111,
              "#46039f"
             ],
             [
              0.2222222222222222,
              "#7201a8"
             ],
             [
              0.3333333333333333,
              "#9c179e"
             ],
             [
              0.4444444444444444,
              "#bd3786"
             ],
             [
              0.5555555555555556,
              "#d8576b"
             ],
             [
              0.6666666666666666,
              "#ed7953"
             ],
             [
              0.7777777777777778,
              "#fb9f3a"
             ],
             [
              0.8888888888888888,
              "#fdca26"
             ],
             [
              1,
              "#f0f921"
             ]
            ],
            "type": "heatmap"
           }
          ],
          "heatmapgl": [
           {
            "colorbar": {
             "outlinewidth": 0,
             "ticks": ""
            },
            "colorscale": [
             [
              0,
              "#0d0887"
             ],
             [
              0.1111111111111111,
              "#46039f"
             ],
             [
              0.2222222222222222,
              "#7201a8"
             ],
             [
              0.3333333333333333,
              "#9c179e"
             ],
             [
              0.4444444444444444,
              "#bd3786"
             ],
             [
              0.5555555555555556,
              "#d8576b"
             ],
             [
              0.6666666666666666,
              "#ed7953"
             ],
             [
              0.7777777777777778,
              "#fb9f3a"
             ],
             [
              0.8888888888888888,
              "#fdca26"
             ],
             [
              1,
              "#f0f921"
             ]
            ],
            "type": "heatmapgl"
           }
          ],
          "histogram": [
           {
            "marker": {
             "pattern": {
              "fillmode": "overlay",
              "size": 10,
              "solidity": 0.2
             }
            },
            "type": "histogram"
           }
          ],
          "histogram2d": [
           {
            "colorbar": {
             "outlinewidth": 0,
             "ticks": ""
            },
            "colorscale": [
             [
              0,
              "#0d0887"
             ],
             [
              0.1111111111111111,
              "#46039f"
             ],
             [
              0.2222222222222222,
              "#7201a8"
             ],
             [
              0.3333333333333333,
              "#9c179e"
             ],
             [
              0.4444444444444444,
              "#bd3786"
             ],
             [
              0.5555555555555556,
              "#d8576b"
             ],
             [
              0.6666666666666666,
              "#ed7953"
             ],
             [
              0.7777777777777778,
              "#fb9f3a"
             ],
             [
              0.8888888888888888,
              "#fdca26"
             ],
             [
              1,
              "#f0f921"
             ]
            ],
            "type": "histogram2d"
           }
          ],
          "histogram2dcontour": [
           {
            "colorbar": {
             "outlinewidth": 0,
             "ticks": ""
            },
            "colorscale": [
             [
              0,
              "#0d0887"
             ],
             [
              0.1111111111111111,
              "#46039f"
             ],
             [
              0.2222222222222222,
              "#7201a8"
             ],
             [
              0.3333333333333333,
              "#9c179e"
             ],
             [
              0.4444444444444444,
              "#bd3786"
             ],
             [
              0.5555555555555556,
              "#d8576b"
             ],
             [
              0.6666666666666666,
              "#ed7953"
             ],
             [
              0.7777777777777778,
              "#fb9f3a"
             ],
             [
              0.8888888888888888,
              "#fdca26"
             ],
             [
              1,
              "#f0f921"
             ]
            ],
            "type": "histogram2dcontour"
           }
          ],
          "mesh3d": [
           {
            "colorbar": {
             "outlinewidth": 0,
             "ticks": ""
            },
            "type": "mesh3d"
           }
          ],
          "parcoords": [
           {
            "line": {
             "colorbar": {
              "outlinewidth": 0,
              "ticks": ""
             }
            },
            "type": "parcoords"
           }
          ],
          "pie": [
           {
            "automargin": true,
            "type": "pie"
           }
          ],
          "scatter": [
           {
            "marker": {
             "colorbar": {
              "outlinewidth": 0,
              "ticks": ""
             }
            },
            "type": "scatter"
           }
          ],
          "scatter3d": [
           {
            "line": {
             "colorbar": {
              "outlinewidth": 0,
              "ticks": ""
             }
            },
            "marker": {
             "colorbar": {
              "outlinewidth": 0,
              "ticks": ""
             }
            },
            "type": "scatter3d"
           }
          ],
          "scattercarpet": [
           {
            "marker": {
             "colorbar": {
              "outlinewidth": 0,
              "ticks": ""
             }
            },
            "type": "scattercarpet"
           }
          ],
          "scattergeo": [
           {
            "marker": {
             "colorbar": {
              "outlinewidth": 0,
              "ticks": ""
             }
            },
            "type": "scattergeo"
           }
          ],
          "scattergl": [
           {
            "marker": {
             "colorbar": {
              "outlinewidth": 0,
              "ticks": ""
             }
            },
            "type": "scattergl"
           }
          ],
          "scattermapbox": [
           {
            "marker": {
             "colorbar": {
              "outlinewidth": 0,
              "ticks": ""
             }
            },
            "type": "scattermapbox"
           }
          ],
          "scatterpolar": [
           {
            "marker": {
             "colorbar": {
              "outlinewidth": 0,
              "ticks": ""
             }
            },
            "type": "scatterpolar"
           }
          ],
          "scatterpolargl": [
           {
            "marker": {
             "colorbar": {
              "outlinewidth": 0,
              "ticks": ""
             }
            },
            "type": "scatterpolargl"
           }
          ],
          "scatterternary": [
           {
            "marker": {
             "colorbar": {
              "outlinewidth": 0,
              "ticks": ""
             }
            },
            "type": "scatterternary"
           }
          ],
          "surface": [
           {
            "colorbar": {
             "outlinewidth": 0,
             "ticks": ""
            },
            "colorscale": [
             [
              0,
              "#0d0887"
             ],
             [
              0.1111111111111111,
              "#46039f"
             ],
             [
              0.2222222222222222,
              "#7201a8"
             ],
             [
              0.3333333333333333,
              "#9c179e"
             ],
             [
              0.4444444444444444,
              "#bd3786"
             ],
             [
              0.5555555555555556,
              "#d8576b"
             ],
             [
              0.6666666666666666,
              "#ed7953"
             ],
             [
              0.7777777777777778,
              "#fb9f3a"
             ],
             [
              0.8888888888888888,
              "#fdca26"
             ],
             [
              1,
              "#f0f921"
             ]
            ],
            "type": "surface"
           }
          ],
          "table": [
           {
            "cells": {
             "fill": {
              "color": "#EBF0F8"
             },
             "line": {
              "color": "white"
             }
            },
            "header": {
             "fill": {
              "color": "#C8D4E3"
             },
             "line": {
              "color": "white"
             }
            },
            "type": "table"
           }
          ]
         },
         "layout": {
          "annotationdefaults": {
           "arrowcolor": "#2a3f5f",
           "arrowhead": 0,
           "arrowwidth": 1
          },
          "autotypenumbers": "strict",
          "coloraxis": {
           "colorbar": {
            "outlinewidth": 0,
            "ticks": ""
           }
          },
          "colorscale": {
           "diverging": [
            [
             0,
             "#8e0152"
            ],
            [
             0.1,
             "#c51b7d"
            ],
            [
             0.2,
             "#de77ae"
            ],
            [
             0.3,
             "#f1b6da"
            ],
            [
             0.4,
             "#fde0ef"
            ],
            [
             0.5,
             "#f7f7f7"
            ],
            [
             0.6,
             "#e6f5d0"
            ],
            [
             0.7,
             "#b8e186"
            ],
            [
             0.8,
             "#7fbc41"
            ],
            [
             0.9,
             "#4d9221"
            ],
            [
             1,
             "#276419"
            ]
           ],
           "sequential": [
            [
             0,
             "#0d0887"
            ],
            [
             0.1111111111111111,
             "#46039f"
            ],
            [
             0.2222222222222222,
             "#7201a8"
            ],
            [
             0.3333333333333333,
             "#9c179e"
            ],
            [
             0.4444444444444444,
             "#bd3786"
            ],
            [
             0.5555555555555556,
             "#d8576b"
            ],
            [
             0.6666666666666666,
             "#ed7953"
            ],
            [
             0.7777777777777778,
             "#fb9f3a"
            ],
            [
             0.8888888888888888,
             "#fdca26"
            ],
            [
             1,
             "#f0f921"
            ]
           ],
           "sequentialminus": [
            [
             0,
             "#0d0887"
            ],
            [
             0.1111111111111111,
             "#46039f"
            ],
            [
             0.2222222222222222,
             "#7201a8"
            ],
            [
             0.3333333333333333,
             "#9c179e"
            ],
            [
             0.4444444444444444,
             "#bd3786"
            ],
            [
             0.5555555555555556,
             "#d8576b"
            ],
            [
             0.6666666666666666,
             "#ed7953"
            ],
            [
             0.7777777777777778,
             "#fb9f3a"
            ],
            [
             0.8888888888888888,
             "#fdca26"
            ],
            [
             1,
             "#f0f921"
            ]
           ]
          },
          "colorway": [
           "#636efa",
           "#EF553B",
           "#00cc96",
           "#ab63fa",
           "#FFA15A",
           "#19d3f3",
           "#FF6692",
           "#B6E880",
           "#FF97FF",
           "#FECB52"
          ],
          "font": {
           "color": "#2a3f5f"
          },
          "geo": {
           "bgcolor": "white",
           "lakecolor": "white",
           "landcolor": "#E5ECF6",
           "showlakes": true,
           "showland": true,
           "subunitcolor": "white"
          },
          "hoverlabel": {
           "align": "left"
          },
          "hovermode": "closest",
          "mapbox": {
           "style": "light"
          },
          "paper_bgcolor": "white",
          "plot_bgcolor": "#E5ECF6",
          "polar": {
           "angularaxis": {
            "gridcolor": "white",
            "linecolor": "white",
            "ticks": ""
           },
           "bgcolor": "#E5ECF6",
           "radialaxis": {
            "gridcolor": "white",
            "linecolor": "white",
            "ticks": ""
           }
          },
          "scene": {
           "xaxis": {
            "backgroundcolor": "#E5ECF6",
            "gridcolor": "white",
            "gridwidth": 2,
            "linecolor": "white",
            "showbackground": true,
            "ticks": "",
            "zerolinecolor": "white"
           },
           "yaxis": {
            "backgroundcolor": "#E5ECF6",
            "gridcolor": "white",
            "gridwidth": 2,
            "linecolor": "white",
            "showbackground": true,
            "ticks": "",
            "zerolinecolor": "white"
           },
           "zaxis": {
            "backgroundcolor": "#E5ECF6",
            "gridcolor": "white",
            "gridwidth": 2,
            "linecolor": "white",
            "showbackground": true,
            "ticks": "",
            "zerolinecolor": "white"
           }
          },
          "shapedefaults": {
           "line": {
            "color": "#2a3f5f"
           }
          },
          "ternary": {
           "aaxis": {
            "gridcolor": "white",
            "linecolor": "white",
            "ticks": ""
           },
           "baxis": {
            "gridcolor": "white",
            "linecolor": "white",
            "ticks": ""
           },
           "bgcolor": "#E5ECF6",
           "caxis": {
            "gridcolor": "white",
            "linecolor": "white",
            "ticks": ""
           }
          },
          "title": {
           "x": 0.05
          },
          "xaxis": {
           "automargin": true,
           "gridcolor": "white",
           "linecolor": "white",
           "ticks": "",
           "title": {
            "standoff": 15
           },
           "zerolinecolor": "white",
           "zerolinewidth": 2
          },
          "yaxis": {
           "automargin": true,
           "gridcolor": "white",
           "linecolor": "white",
           "ticks": "",
           "title": {
            "standoff": 15
           },
           "zerolinecolor": "white",
           "zerolinewidth": 2
          }
         }
        },
        "xaxis": {
         "anchor": "y",
         "domain": [
          0,
          1
         ],
         "title": {
          "text": "Phrases"
         }
        },
        "yaxis": {
         "anchor": "x",
         "domain": [
          0,
          1
         ],
         "title": {
          "text": "count"
         }
        }
       }
      },
      "text/html": [
       "<div>                            <div id=\"1acf7067-1164-44e7-a8c8-7d2f62ee9026\" class=\"plotly-graph-div\" style=\"height:525px; width:100%;\"></div>            <script type=\"text/javascript\">                require([\"plotly\"], function(Plotly) {                    window.PLOTLYENV=window.PLOTLYENV || {};                                    if (document.getElementById(\"1acf7067-1164-44e7-a8c8-7d2f62ee9026\")) {                    Plotly.newPlot(                        \"1acf7067-1164-44e7-a8c8-7d2f62ee9026\",                        [{\"alignmentgroup\":\"True\",\"hovertemplate\":\"index=%{x}<br>0=%{y}<extra></extra>\",\"legendgroup\":\"\",\"marker\":{\"color\":\"#636efa\",\"pattern\":{\"shape\":\"\"}},\"name\":\"\",\"offsetgroup\":\"\",\"orientation\":\"v\",\"showlegend\":false,\"textposition\":\"auto\",\"type\":\"bar\",\"x\":[\"television\",\"artist\",\"host\",\"personality\",\"singer\",\"football\",\"film\",\"writer\",\"producer\",\"political\",\"activist\",\"sports\",\"songwriter\",\"band\",\"actor\",\"director\",\"rock\",\"player\",\"fashion\",\"comedian\"],\"xaxis\":\"x\",\"y\":[26,19,18,18,16,16,16,14,13,12,11,11,11,11,11,10,9,8,8,8],\"yaxis\":\"y\"}],                        {\"barmode\":\"relative\",\"legend\":{\"tracegroupgap\":0},\"margin\":{\"t\":60},\"template\":{\"data\":{\"bar\":[{\"error_x\":{\"color\":\"#2a3f5f\"},\"error_y\":{\"color\":\"#2a3f5f\"},\"marker\":{\"line\":{\"color\":\"#E5ECF6\",\"width\":0.5},\"pattern\":{\"fillmode\":\"overlay\",\"size\":10,\"solidity\":0.2}},\"type\":\"bar\"}],\"barpolar\":[{\"marker\":{\"line\":{\"color\":\"#E5ECF6\",\"width\":0.5},\"pattern\":{\"fillmode\":\"overlay\",\"size\":10,\"solidity\":0.2}},\"type\":\"barpolar\"}],\"carpet\":[{\"aaxis\":{\"endlinecolor\":\"#2a3f5f\",\"gridcolor\":\"white\",\"linecolor\":\"white\",\"minorgridcolor\":\"white\",\"startlinecolor\":\"#2a3f5f\"},\"baxis\":{\"endlinecolor\":\"#2a3f5f\",\"gridcolor\":\"white\",\"linecolor\":\"white\",\"minorgridcolor\":\"white\",\"startlinecolor\":\"#2a3f5f\"},\"type\":\"carpet\"}],\"choropleth\":[{\"colorbar\":{\"outlinewidth\":0,\"ticks\":\"\"},\"type\":\"choropleth\"}],\"contour\":[{\"colorbar\":{\"outlinewidth\":0,\"ticks\":\"\"},\"colorscale\":[[0.0,\"#0d0887\"],[0.1111111111111111,\"#46039f\"],[0.2222222222222222,\"#7201a8\"],[0.3333333333333333,\"#9c179e\"],[0.4444444444444444,\"#bd3786\"],[0.5555555555555556,\"#d8576b\"],[0.6666666666666666,\"#ed7953\"],[0.7777777777777778,\"#fb9f3a\"],[0.8888888888888888,\"#fdca26\"],[1.0,\"#f0f921\"]],\"type\":\"contour\"}],\"contourcarpet\":[{\"colorbar\":{\"outlinewidth\":0,\"ticks\":\"\"},\"type\":\"contourcarpet\"}],\"heatmap\":[{\"colorbar\":{\"outlinewidth\":0,\"ticks\":\"\"},\"colorscale\":[[0.0,\"#0d0887\"],[0.1111111111111111,\"#46039f\"],[0.2222222222222222,\"#7201a8\"],[0.3333333333333333,\"#9c179e\"],[0.4444444444444444,\"#bd3786\"],[0.5555555555555556,\"#d8576b\"],[0.6666666666666666,\"#ed7953\"],[0.7777777777777778,\"#fb9f3a\"],[0.8888888888888888,\"#fdca26\"],[1.0,\"#f0f921\"]],\"type\":\"heatmap\"}],\"heatmapgl\":[{\"colorbar\":{\"outlinewidth\":0,\"ticks\":\"\"},\"colorscale\":[[0.0,\"#0d0887\"],[0.1111111111111111,\"#46039f\"],[0.2222222222222222,\"#7201a8\"],[0.3333333333333333,\"#9c179e\"],[0.4444444444444444,\"#bd3786\"],[0.5555555555555556,\"#d8576b\"],[0.6666666666666666,\"#ed7953\"],[0.7777777777777778,\"#fb9f3a\"],[0.8888888888888888,\"#fdca26\"],[1.0,\"#f0f921\"]],\"type\":\"heatmapgl\"}],\"histogram\":[{\"marker\":{\"pattern\":{\"fillmode\":\"overlay\",\"size\":10,\"solidity\":0.2}},\"type\":\"histogram\"}],\"histogram2d\":[{\"colorbar\":{\"outlinewidth\":0,\"ticks\":\"\"},\"colorscale\":[[0.0,\"#0d0887\"],[0.1111111111111111,\"#46039f\"],[0.2222222222222222,\"#7201a8\"],[0.3333333333333333,\"#9c179e\"],[0.4444444444444444,\"#bd3786\"],[0.5555555555555556,\"#d8576b\"],[0.6666666666666666,\"#ed7953\"],[0.7777777777777778,\"#fb9f3a\"],[0.8888888888888888,\"#fdca26\"],[1.0,\"#f0f921\"]],\"type\":\"histogram2d\"}],\"histogram2dcontour\":[{\"colorbar\":{\"outlinewidth\":0,\"ticks\":\"\"},\"colorscale\":[[0.0,\"#0d0887\"],[0.1111111111111111,\"#46039f\"],[0.2222222222222222,\"#7201a8\"],[0.3333333333333333,\"#9c179e\"],[0.4444444444444444,\"#bd3786\"],[0.5555555555555556,\"#d8576b\"],[0.6666666666666666,\"#ed7953\"],[0.7777777777777778,\"#fb9f3a\"],[0.8888888888888888,\"#fdca26\"],[1.0,\"#f0f921\"]],\"type\":\"histogram2dcontour\"}],\"mesh3d\":[{\"colorbar\":{\"outlinewidth\":0,\"ticks\":\"\"},\"type\":\"mesh3d\"}],\"parcoords\":[{\"line\":{\"colorbar\":{\"outlinewidth\":0,\"ticks\":\"\"}},\"type\":\"parcoords\"}],\"pie\":[{\"automargin\":true,\"type\":\"pie\"}],\"scatter\":[{\"marker\":{\"colorbar\":{\"outlinewidth\":0,\"ticks\":\"\"}},\"type\":\"scatter\"}],\"scatter3d\":[{\"line\":{\"colorbar\":{\"outlinewidth\":0,\"ticks\":\"\"}},\"marker\":{\"colorbar\":{\"outlinewidth\":0,\"ticks\":\"\"}},\"type\":\"scatter3d\"}],\"scattercarpet\":[{\"marker\":{\"colorbar\":{\"outlinewidth\":0,\"ticks\":\"\"}},\"type\":\"scattercarpet\"}],\"scattergeo\":[{\"marker\":{\"colorbar\":{\"outlinewidth\":0,\"ticks\":\"\"}},\"type\":\"scattergeo\"}],\"scattergl\":[{\"marker\":{\"colorbar\":{\"outlinewidth\":0,\"ticks\":\"\"}},\"type\":\"scattergl\"}],\"scattermapbox\":[{\"marker\":{\"colorbar\":{\"outlinewidth\":0,\"ticks\":\"\"}},\"type\":\"scattermapbox\"}],\"scatterpolar\":[{\"marker\":{\"colorbar\":{\"outlinewidth\":0,\"ticks\":\"\"}},\"type\":\"scatterpolar\"}],\"scatterpolargl\":[{\"marker\":{\"colorbar\":{\"outlinewidth\":0,\"ticks\":\"\"}},\"type\":\"scatterpolargl\"}],\"scatterternary\":[{\"marker\":{\"colorbar\":{\"outlinewidth\":0,\"ticks\":\"\"}},\"type\":\"scatterternary\"}],\"surface\":[{\"colorbar\":{\"outlinewidth\":0,\"ticks\":\"\"},\"colorscale\":[[0.0,\"#0d0887\"],[0.1111111111111111,\"#46039f\"],[0.2222222222222222,\"#7201a8\"],[0.3333333333333333,\"#9c179e\"],[0.4444444444444444,\"#bd3786\"],[0.5555555555555556,\"#d8576b\"],[0.6666666666666666,\"#ed7953\"],[0.7777777777777778,\"#fb9f3a\"],[0.8888888888888888,\"#fdca26\"],[1.0,\"#f0f921\"]],\"type\":\"surface\"}],\"table\":[{\"cells\":{\"fill\":{\"color\":\"#EBF0F8\"},\"line\":{\"color\":\"white\"}},\"header\":{\"fill\":{\"color\":\"#C8D4E3\"},\"line\":{\"color\":\"white\"}},\"type\":\"table\"}]},\"layout\":{\"annotationdefaults\":{\"arrowcolor\":\"#2a3f5f\",\"arrowhead\":0,\"arrowwidth\":1},\"autotypenumbers\":\"strict\",\"coloraxis\":{\"colorbar\":{\"outlinewidth\":0,\"ticks\":\"\"}},\"colorscale\":{\"diverging\":[[0,\"#8e0152\"],[0.1,\"#c51b7d\"],[0.2,\"#de77ae\"],[0.3,\"#f1b6da\"],[0.4,\"#fde0ef\"],[0.5,\"#f7f7f7\"],[0.6,\"#e6f5d0\"],[0.7,\"#b8e186\"],[0.8,\"#7fbc41\"],[0.9,\"#4d9221\"],[1,\"#276419\"]],\"sequential\":[[0.0,\"#0d0887\"],[0.1111111111111111,\"#46039f\"],[0.2222222222222222,\"#7201a8\"],[0.3333333333333333,\"#9c179e\"],[0.4444444444444444,\"#bd3786\"],[0.5555555555555556,\"#d8576b\"],[0.6666666666666666,\"#ed7953\"],[0.7777777777777778,\"#fb9f3a\"],[0.8888888888888888,\"#fdca26\"],[1.0,\"#f0f921\"]],\"sequentialminus\":[[0.0,\"#0d0887\"],[0.1111111111111111,\"#46039f\"],[0.2222222222222222,\"#7201a8\"],[0.3333333333333333,\"#9c179e\"],[0.4444444444444444,\"#bd3786\"],[0.5555555555555556,\"#d8576b\"],[0.6666666666666666,\"#ed7953\"],[0.7777777777777778,\"#fb9f3a\"],[0.8888888888888888,\"#fdca26\"],[1.0,\"#f0f921\"]]},\"colorway\":[\"#636efa\",\"#EF553B\",\"#00cc96\",\"#ab63fa\",\"#FFA15A\",\"#19d3f3\",\"#FF6692\",\"#B6E880\",\"#FF97FF\",\"#FECB52\"],\"font\":{\"color\":\"#2a3f5f\"},\"geo\":{\"bgcolor\":\"white\",\"lakecolor\":\"white\",\"landcolor\":\"#E5ECF6\",\"showlakes\":true,\"showland\":true,\"subunitcolor\":\"white\"},\"hoverlabel\":{\"align\":\"left\"},\"hovermode\":\"closest\",\"mapbox\":{\"style\":\"light\"},\"paper_bgcolor\":\"white\",\"plot_bgcolor\":\"#E5ECF6\",\"polar\":{\"angularaxis\":{\"gridcolor\":\"white\",\"linecolor\":\"white\",\"ticks\":\"\"},\"bgcolor\":\"#E5ECF6\",\"radialaxis\":{\"gridcolor\":\"white\",\"linecolor\":\"white\",\"ticks\":\"\"}},\"scene\":{\"xaxis\":{\"backgroundcolor\":\"#E5ECF6\",\"gridcolor\":\"white\",\"gridwidth\":2,\"linecolor\":\"white\",\"showbackground\":true,\"ticks\":\"\",\"zerolinecolor\":\"white\"},\"yaxis\":{\"backgroundcolor\":\"#E5ECF6\",\"gridcolor\":\"white\",\"gridwidth\":2,\"linecolor\":\"white\",\"showbackground\":true,\"ticks\":\"\",\"zerolinecolor\":\"white\"},\"zaxis\":{\"backgroundcolor\":\"#E5ECF6\",\"gridcolor\":\"white\",\"gridwidth\":2,\"linecolor\":\"white\",\"showbackground\":true,\"ticks\":\"\",\"zerolinecolor\":\"white\"}},\"shapedefaults\":{\"line\":{\"color\":\"#2a3f5f\"}},\"ternary\":{\"aaxis\":{\"gridcolor\":\"white\",\"linecolor\":\"white\",\"ticks\":\"\"},\"baxis\":{\"gridcolor\":\"white\",\"linecolor\":\"white\",\"ticks\":\"\"},\"bgcolor\":\"#E5ECF6\",\"caxis\":{\"gridcolor\":\"white\",\"linecolor\":\"white\",\"ticks\":\"\"}},\"title\":{\"x\":0.05},\"xaxis\":{\"automargin\":true,\"gridcolor\":\"white\",\"linecolor\":\"white\",\"ticks\":\"\",\"title\":{\"standoff\":15},\"zerolinecolor\":\"white\",\"zerolinewidth\":2},\"yaxis\":{\"automargin\":true,\"gridcolor\":\"white\",\"linecolor\":\"white\",\"ticks\":\"\",\"title\":{\"standoff\":15},\"zerolinecolor\":\"white\",\"zerolinewidth\":2}}},\"xaxis\":{\"anchor\":\"y\",\"domain\":[0.0,1.0],\"title\":{\"text\":\"Phrases\"}},\"yaxis\":{\"anchor\":\"x\",\"domain\":[0.0,1.0],\"title\":{\"text\":\"count\"}}},                        {\"responsive\": true}                    ).then(function(){\n",
       "                            \n",
       "var gd = document.getElementById('1acf7067-1164-44e7-a8c8-7d2f62ee9026');\n",
       "var x = new MutationObserver(function (mutations, observer) {{\n",
       "        var display = window.getComputedStyle(gd).display;\n",
       "        if (!display || display === 'none') {{\n",
       "            console.log([gd, 'removed!']);\n",
       "            Plotly.purge(gd);\n",
       "            observer.disconnect();\n",
       "        }}\n",
       "}});\n",
       "\n",
       "// Listen for the removal of the full notebook cells\n",
       "var notebookContainer = gd.closest('#notebook-container');\n",
       "if (notebookContainer) {{\n",
       "    x.observe(notebookContainer, {childList: true});\n",
       "}}\n",
       "\n",
       "// Listen for the clearing of the current output cell\n",
       "var outputEl = gd.closest('.output');\n",
       "if (outputEl) {{\n",
       "    x.observe(outputEl, {childList: true});\n",
       "}}\n",
       "\n",
       "                        })                };                });            </script>        </div>"
      ]
     },
     "metadata": {},
     "output_type": "display_data"
    }
   ],
   "source": [
    "import plotly.express as px\n",
    "plot_topn(titles, ngram_range=(1,1))"
   ]
  },
  {
   "cell_type": "code",
   "execution_count": 50,
   "id": "50c2b782",
   "metadata": {
    "scrolled": true
   },
   "outputs": [
    {
     "data": {
      "text/html": [
       "<div>\n",
       "<style scoped>\n",
       "    .dataframe tbody tr th:only-of-type {\n",
       "        vertical-align: middle;\n",
       "    }\n",
       "\n",
       "    .dataframe tbody tr th {\n",
       "        vertical-align: top;\n",
       "    }\n",
       "\n",
       "    .dataframe thead th {\n",
       "        text-align: right;\n",
       "    }\n",
       "</style>\n",
       "<table border=\"1\" class=\"dataframe\">\n",
       "  <thead>\n",
       "    <tr style=\"text-align: right;\">\n",
       "      <th></th>\n",
       "      <th>username</th>\n",
       "      <th>name</th>\n",
       "      <th>tweet</th>\n",
       "      <th>hashtags</th>\n",
       "      <th>Jobs</th>\n",
       "      <th>bio</th>\n",
       "      <th>tweet_bio</th>\n",
       "    </tr>\n",
       "  </thead>\n",
       "  <tbody>\n",
       "    <tr>\n",
       "      <th>0</th>\n",
       "      <td>GiGiHadid</td>\n",
       "      <td>Gigi Hadid</td>\n",
       "      <td>['few things 😋🙃😘', 'You were facing the right ...</td>\n",
       "      <td>giforce</td>\n",
       "      <td>model</td>\n",
       "      <td>IMG Models Worldwide. #giforce</td>\n",
       "      <td>['few things 😋🙃😘', 'You were facing the right ...</td>\n",
       "    </tr>\n",
       "    <tr>\n",
       "      <th>1</th>\n",
       "      <td>Cantguardmike</td>\n",
       "      <td>Michael William Thomas Jr.</td>\n",
       "      <td>['Facts !', '@jhardee_19 called it like 2 mont...</td>\n",
       "      <td>gobucks</td>\n",
       "      <td>football wide receiver</td>\n",
       "      <td>GOD GOT US</td>\n",
       "      <td>['Facts !', '@jhardee_19 called it like 2 mont...</td>\n",
       "    </tr>\n",
       "    <tr>\n",
       "      <th>2</th>\n",
       "      <td>IAMJHUD</td>\n",
       "      <td>Jennifer Hudson</td>\n",
       "      <td>['Team JHud, please help me wish my Virgo sist...</td>\n",
       "      <td>neverforget,baobabstudios,respectmovie,ebony,v...</td>\n",
       "      <td>singer , actress</td>\n",
       "      <td>Grammy winning Artist, Academy Award winning A...</td>\n",
       "      <td>['Team JHud, please help me wish my Virgo sist...</td>\n",
       "    </tr>\n",
       "    <tr>\n",
       "      <th>3</th>\n",
       "      <td>lukajones</td>\n",
       "      <td>Luka Jones</td>\n",
       "      <td>['@johnnypemberton Here we go 🏈', 'gracias for...</td>\n",
       "      <td>goclippers,rcjh,topcity,goblue,rcjh</td>\n",
       "      <td>actor , comedian</td>\n",
       "      <td>actor (Shrill &amp; People of Earth both on @hulu)...</td>\n",
       "      <td>['@johnnypemberton Here we go 🏈', 'gracias for...</td>\n",
       "    </tr>\n",
       "    <tr>\n",
       "      <th>4</th>\n",
       "      <td>rcobb18</td>\n",
       "      <td>Randall Cobb (American football)</td>\n",
       "      <td>['Man It Feels Good to Be a Packer  https://t....</td>\n",
       "      <td>mvp,ad,winitforted,jerseyswap,verzuz,ad,jersey...</td>\n",
       "      <td>football wide receiver</td>\n",
       "      <td>Faith in the Creator of Life. Husband. Father....</td>\n",
       "      <td>['Man It Feels Good to Be a Packer  https://t....</td>\n",
       "    </tr>\n",
       "    <tr>\n",
       "      <th>...</th>\n",
       "      <td>...</td>\n",
       "      <td>...</td>\n",
       "      <td>...</td>\n",
       "      <td>...</td>\n",
       "      <td>...</td>\n",
       "      <td>...</td>\n",
       "      <td>...</td>\n",
       "    </tr>\n",
       "    <tr>\n",
       "      <th>1319</th>\n",
       "      <td>ColinHanks</td>\n",
       "      <td>Colin Hanks</td>\n",
       "      <td>['@PFTompkins The old man has a pretty sweet c...</td>\n",
       "      <td>hankskerchiefs,hankskerchiefs,beready,beready,tbt</td>\n",
       "      <td>actor , producer , director</td>\n",
       "      <td></td>\n",
       "      <td>['@PFTompkins The old man has a pretty sweet c...</td>\n",
       "    </tr>\n",
       "    <tr>\n",
       "      <th>1320</th>\n",
       "      <td>CraigyFerg</td>\n",
       "      <td>Craig Ferguson</td>\n",
       "      <td>['Tonight! @TheHustlerABC @ABCNetwork #thecrai...</td>\n",
       "      <td>thecraigfergusonshow,thecraigfergusonshow,theh...</td>\n",
       "      <td>actor , author , comedian , television host</td>\n",
       "      <td></td>\n",
       "      <td>['Tonight! @TheHustlerABC @ABCNetwork #thecrai...</td>\n",
       "    </tr>\n",
       "    <tr>\n",
       "      <th>1321</th>\n",
       "      <td>GeraldFinley</td>\n",
       "      <td>Gerald Finley</td>\n",
       "      <td>['@Twiz007 @DonaldMacleod01 @juliusdrake @edin...</td>\n",
       "      <td>bluebeardscastle,otello,otello,dongiovanni,don...</td>\n",
       "      <td>baritone opera singer</td>\n",
       "      <td></td>\n",
       "      <td>['@Twiz007 @DonaldMacleod01 @juliusdrake @edin...</td>\n",
       "    </tr>\n",
       "    <tr>\n",
       "      <th>1322</th>\n",
       "      <td>Emily_Estefan</td>\n",
       "      <td>Emily Estefan</td>\n",
       "      <td>['Just posted a photo  https://t.co/ck0baQ3egI...</td>\n",
       "      <td>damnitnova,davenavarro,imissmyband,purplemoney...</td>\n",
       "      <td>singer</td>\n",
       "      <td></td>\n",
       "      <td>['Just posted a photo  https://t.co/ck0baQ3egI...</td>\n",
       "    </tr>\n",
       "    <tr>\n",
       "      <th>1323</th>\n",
       "      <td>NatashaMarsh</td>\n",
       "      <td>Natasha Marsh</td>\n",
       "      <td>['@ronen_shefer @JOHNRC2014 Thank you very muc...</td>\n",
       "      <td>fawales,romanticsanonymous,shinewalk2017,choco...</td>\n",
       "      <td>soprano singer</td>\n",
       "      <td></td>\n",
       "      <td>['@ronen_shefer @JOHNRC2014 Thank you very muc...</td>\n",
       "    </tr>\n",
       "  </tbody>\n",
       "</table>\n",
       "<p>1324 rows × 7 columns</p>\n",
       "</div>"
      ],
      "text/plain": [
       "           username                              name  \\\n",
       "0         GiGiHadid                        Gigi Hadid   \n",
       "1     Cantguardmike        Michael William Thomas Jr.   \n",
       "2           IAMJHUD                   Jennifer Hudson   \n",
       "3         lukajones                        Luka Jones   \n",
       "4           rcobb18  Randall Cobb (American football)   \n",
       "...             ...                               ...   \n",
       "1319     ColinHanks                       Colin Hanks   \n",
       "1320     CraigyFerg                    Craig Ferguson   \n",
       "1321   GeraldFinley                     Gerald Finley   \n",
       "1322  Emily_Estefan                     Emily Estefan   \n",
       "1323   NatashaMarsh                     Natasha Marsh   \n",
       "\n",
       "                                                  tweet  \\\n",
       "0     ['few things 😋🙃😘', 'You were facing the right ...   \n",
       "1     ['Facts !', '@jhardee_19 called it like 2 mont...   \n",
       "2     ['Team JHud, please help me wish my Virgo sist...   \n",
       "3     ['@johnnypemberton Here we go 🏈', 'gracias for...   \n",
       "4     ['Man It Feels Good to Be a Packer  https://t....   \n",
       "...                                                 ...   \n",
       "1319  ['@PFTompkins The old man has a pretty sweet c...   \n",
       "1320  ['Tonight! @TheHustlerABC @ABCNetwork #thecrai...   \n",
       "1321  ['@Twiz007 @DonaldMacleod01 @juliusdrake @edin...   \n",
       "1322  ['Just posted a photo  https://t.co/ck0baQ3egI...   \n",
       "1323  ['@ronen_shefer @JOHNRC2014 Thank you very muc...   \n",
       "\n",
       "                                               hashtags  \\\n",
       "0                                               giforce   \n",
       "1                                               gobucks   \n",
       "2     neverforget,baobabstudios,respectmovie,ebony,v...   \n",
       "3                   goclippers,rcjh,topcity,goblue,rcjh   \n",
       "4     mvp,ad,winitforted,jerseyswap,verzuz,ad,jersey...   \n",
       "...                                                 ...   \n",
       "1319  hankskerchiefs,hankskerchiefs,beready,beready,tbt   \n",
       "1320  thecraigfergusonshow,thecraigfergusonshow,theh...   \n",
       "1321  bluebeardscastle,otello,otello,dongiovanni,don...   \n",
       "1322  damnitnova,davenavarro,imissmyband,purplemoney...   \n",
       "1323  fawales,romanticsanonymous,shinewalk2017,choco...   \n",
       "\n",
       "                                             Jobs  \\\n",
       "0                                           model   \n",
       "1                          football wide receiver   \n",
       "2                                singer , actress   \n",
       "3                                actor , comedian   \n",
       "4                          football wide receiver   \n",
       "...                                           ...   \n",
       "1319                  actor , producer , director   \n",
       "1320  actor , author , comedian , television host   \n",
       "1321                        baritone opera singer   \n",
       "1322                                       singer   \n",
       "1323                               soprano singer   \n",
       "\n",
       "                                                    bio  \\\n",
       "0                        IMG Models Worldwide. #giforce   \n",
       "1                                            GOD GOT US   \n",
       "2     Grammy winning Artist, Academy Award winning A...   \n",
       "3     actor (Shrill & People of Earth both on @hulu)...   \n",
       "4     Faith in the Creator of Life. Husband. Father....   \n",
       "...                                                 ...   \n",
       "1319                                                      \n",
       "1320                                                      \n",
       "1321                                                      \n",
       "1322                                                      \n",
       "1323                                                      \n",
       "\n",
       "                                              tweet_bio  \n",
       "0     ['few things 😋🙃😘', 'You were facing the right ...  \n",
       "1     ['Facts !', '@jhardee_19 called it like 2 mont...  \n",
       "2     ['Team JHud, please help me wish my Virgo sist...  \n",
       "3     ['@johnnypemberton Here we go 🏈', 'gracias for...  \n",
       "4     ['Man It Feels Good to Be a Packer  https://t....  \n",
       "...                                                 ...  \n",
       "1319  ['@PFTompkins The old man has a pretty sweet c...  \n",
       "1320  ['Tonight! @TheHustlerABC @ABCNetwork #thecrai...  \n",
       "1321  ['@Twiz007 @DonaldMacleod01 @juliusdrake @edin...  \n",
       "1322  ['Just posted a photo  https://t.co/ck0baQ3egI...  \n",
       "1323  ['@ronen_shefer @JOHNRC2014 Thank you very muc...  \n",
       "\n",
       "[1324 rows x 7 columns]"
      ]
     },
     "execution_count": 50,
     "metadata": {},
     "output_type": "execute_result"
    }
   ],
   "source": [
    "data['tweet_bio'] = data['tweet'] + ' '+ data['bio']\n",
    "data"
   ]
  },
  {
   "cell_type": "code",
   "execution_count": 41,
   "id": "b60ae740",
   "metadata": {},
   "outputs": [],
   "source": [
    "embeddings_dict = {}\n",
    "with open(\"glove.6B.100d.txt\", 'r', encoding='utf-8') as f:\n",
    "    for line in f:\n",
    "        values = line.split()\n",
    "        token = values[0]\n",
    "        vector = np.asarray(values[1:], \"float32\")\n",
    "        embeddings_dict[token] = vector"
   ]
  },
  {
   "cell_type": "code",
   "execution_count": 43,
   "id": "f7ca07b1",
   "metadata": {},
   "outputs": [],
   "source": [
    "def find_closest_embeddings(embedding, cutoff=25):\n",
    "    return sorted(embeddings_dict.keys(), key=lambda token: spatial.distance.euclidean(embeddings_dict[token], embedding))"
   ]
  },
  {
   "cell_type": "code",
   "execution_count": 54,
   "id": "d9512326",
   "metadata": {},
   "outputs": [
    {
     "data": {
      "text/plain": [
       "['news', 'anchor', 'cnn', 'television', 'abc']"
      ]
     },
     "execution_count": 54,
     "metadata": {},
     "output_type": "execute_result"
    }
   ],
   "source": [
    "find_closest_embeddings(\n",
    "    embeddings_dict[\"news\"] + embeddings_dict[\"anchor\"]\n",
    ")[:5]"
   ]
  },
  {
   "cell_type": "code",
   "execution_count": 55,
   "id": "a2b394fa",
   "metadata": {},
   "outputs": [
    {
     "data": {
      "text/plain": [
       "['worldwide',\n",
       " 'globally',\n",
       " 'global',\n",
       " 'europe',\n",
       " 'world-wide',\n",
       " 'nationwide',\n",
       " 'addition',\n",
       " 'increasing',\n",
       " 'combined',\n",
       " 'america']"
      ]
     },
     "execution_count": 55,
     "metadata": {},
     "output_type": "execute_result"
    }
   ],
   "source": [
    "find_closest_embeddings(\n",
    "    embeddings_dict['worldwide']\n",
    ")[:10]"
   ]
  },
  {
   "cell_type": "code",
   "execution_count": 51,
   "id": "933eca0e",
   "metadata": {},
   "outputs": [
    {
     "data": {
      "text/plain": [
       "''"
      ]
     },
     "execution_count": 51,
     "metadata": {},
     "output_type": "execute_result"
    }
   ],
   "source": [
    "lst=[]\n",
    "for item in data['hashtags']:\n",
    "    lst.extend(item.rsplit(','))\n",
    "lst=list(set(lst))\n",
    "lst.pop(0)"
   ]
  },
  {
   "cell_type": "code",
   "execution_count": 52,
   "id": "dd34fd1c",
   "metadata": {},
   "outputs": [
    {
     "data": {
      "text/plain": [
       "['musicroyalties',\n",
       " 'wentworth',\n",
       " 'takemebackplease',\n",
       " 'lit_physical_album',\n",
       " 'childrensbooks',\n",
       " 'vaxganda',\n",
       " 'homedecor',\n",
       " 'timeout2vote',\n",
       " 'wonderfulindonesia',\n",
       " 'culture3',\n",
       " 'friday',\n",
       " 'rsd2018',\n",
       " 'warilapass',\n",
       " 'harveymilk',\n",
       " 'billionsclub',\n",
       " 'superdancerchapter4',\n",
       " 'communityshield',\n",
       " 'b7',\n",
       " 'education',\n",
       " 'loveforsale',\n",
       " 'smellreadyforanything',\n",
       " 'besttelemamaondaplanet',\n",
       " 'kisskissbangbang',\n",
       " 'feedthenextbillion',\n",
       " 'jimmorrison',\n",
       " 'spacejam',\n",
       " 'whereisgavin',\n",
       " 'parisbercy',\n",
       " 'remibader',\n",
       " 'savortheater',\n",
       " 'tcsummerjam',\n",
       " 'fintechad',\n",
       " 'mancrushmonday',\n",
       " 'ryujin',\n",
       " 'dontwaitup',\n",
       " 'andy',\n",
       " 'reno',\n",
       " 'wcqualifiers',\n",
       " 'facupfinal',\n",
       " 'adizero',\n",
       " 'goalietre',\n",
       " 'currybrand',\n",
       " 'paramveerchakara',\n",
       " 'getsome',\n",
       " 'themysteriousbenedictsociety',\n",
       " 'totalbellas',\n",
       " 'wearenxtuk',\n",
       " 'respectthegame',\n",
       " 'kinggayle',\n",
       " 'rackcityday',\n",
       " 'foodforthought',\n",
       " 'wefoundshowtime',\n",
       " 'ksfartistsofchoice',\n",
       " 'zeecinemapremiere',\n",
       " 'fearthedeer',\n",
       " 'rallycircuit',\n",
       " 'maddennfl22',\n",
       " 'notourgame',\n",
       " 'easter2020',\n",
       " 'treatmyself',\n",
       " 'justicefornexttoyou',\n",
       " 'alwaysremember',\n",
       " 'handofhope',\n",
       " 'nappyboyradiopodcast',\n",
       " 'ta9',\n",
       " 'thebachelorette',\n",
       " 'drinkresponsibly',\n",
       " 'twerkulatorstreamingparty',\n",
       " 'lecheminduroi',\n",
       " 'soa',\n",
       " 'haroldandkumar',\n",
       " 'brutalmasks',\n",
       " 'buckcommander',\n",
       " 'copaamerica2021',\n",
       " 'underhiseye',\n",
       " 'stayinplay',\n",
       " 'vamoscomtudo',\n",
       " 'jennakristina',\n",
       " 'maineventmatch',\n",
       " 'intheheights',\n",
       " 'myhouse',\n",
       " 'hisenseupgradeupgradeseason',\n",
       " 'bakeoff',\n",
       " 'bollockstobrexit',\n",
       " 'vikrambatra',\n",
       " 'syria',\n",
       " 'florafantasy',\n",
       " 'runninglate',\n",
       " 'ohhhhhhhhhhhkay',\n",
       " 'falconandthewintersoldier',\n",
       " 'lollapalooza2021',\n",
       " 'robbieisalegend',\n",
       " 'whosinyourhead',\n",
       " 'ufc259',\n",
       " 'seattleprotests',\n",
       " 'cutforacure',\n",
       " 'world11',\n",
       " 'exothepoodle',\n",
       " 'astroshappiness',\n",
       " 'priceless',\n",
       " 'krump',\n",
       " 'raidernation',\n",
       " 'anncoulter',\n",
       " 'wouldyou',\n",
       " 'beyonce',\n",
       " 'technoweenie',\n",
       " 'neerajchopra',\n",
       " 'vegan',\n",
       " 'stopkillingus',\n",
       " 'idrinthemaking',\n",
       " 'rhobh',\n",
       " 'garagaragempi',\n",
       " 'heartbreaking',\n",
       " 'niadacosta',\n",
       " 'disneynight',\n",
       " 'rooted',\n",
       " 'cameofameo',\n",
       " 'karen',\n",
       " 'cleanair',\n",
       " 'questlovesupreme',\n",
       " 'shivers',\n",
       " 'playlistlive',\n",
       " 'sonunigam',\n",
       " 'mixandmatch',\n",
       " 'togetherwearestronger',\n",
       " 'peaches',\n",
       " 'wakeupnexttoyou',\n",
       " 'alfredstheme',\n",
       " 'medimixfacewash',\n",
       " 'young',\n",
       " 'cleveland',\n",
       " 'nl6',\n",
       " 'askanupam',\n",
       " 'iheartmaroon5',\n",
       " 'raydiantpartner',\n",
       " 'nationalrescuedogday',\n",
       " 'livche',\n",
       " 'smarttoyawards',\n",
       " 'miami',\n",
       " 'france',\n",
       " 'arethafranklin',\n",
       " 'tokyoparalympics2021',\n",
       " 'burnmovie',\n",
       " 'openingnightlive',\n",
       " 'benchxkatutuboph',\n",
       " 'justvote',\n",
       " 'whodey',\n",
       " 'tworocks',\n",
       " 'unleashthelion',\n",
       " 'hahn',\n",
       " 'arghael',\n",
       " 'luster',\n",
       " 'throwbackthurshof',\n",
       " 'heismanhouse',\n",
       " 'cabonights',\n",
       " 'cy',\n",
       " 'cleowade',\n",
       " 'respectmovie',\n",
       " 'supportsmallbusiness',\n",
       " 'songsfromhome',\n",
       " 'sajidnadiadwala',\n",
       " 'changes',\n",
       " 'frenchgp',\n",
       " 'rewritingextinction',\n",
       " 'schrabhomevideo',\n",
       " 'bicsoleilpartner',\n",
       " 'carlosericlopez',\n",
       " 'wehaveaghost',\n",
       " 'jlovers',\n",
       " 'stylishwithjennalyons',\n",
       " 'lomalopez',\n",
       " 'socceraid2021',\n",
       " 'filmcrew',\n",
       " 'awks',\n",
       " 'bobsdanceshop',\n",
       " 'fieldofdreamsgame',\n",
       " 'nsfw',\n",
       " 'pacexclusive',\n",
       " 'corn',\n",
       " 'bulkhomme',\n",
       " 'zakirhussain',\n",
       " 'countryyutesalbum',\n",
       " 'real',\n",
       " 'overdressed',\n",
       " 'doge',\n",
       " 'stopcorruptionnow',\n",
       " 'eurocup',\n",
       " 'sohoodiepartner',\n",
       " 'nomaseratifordaddy',\n",
       " 'tdfail',\n",
       " 'iwillbuyyouanirnbru',\n",
       " 'loveandlight',\n",
       " 'protectpregnantworkers',\n",
       " 'handsanitizer',\n",
       " 'x',\n",
       " 'today',\n",
       " 'cfbplayoffs',\n",
       " 'malcolmxday',\n",
       " 'queensugar',\n",
       " 'barkatthepark',\n",
       " 'globalbites',\n",
       " 'bitofablow',\n",
       " 'peeteeay',\n",
       " 'dowhatlouwould',\n",
       " 'euros2020',\n",
       " 'codependent',\n",
       " 'flamengo',\n",
       " 'greatnews',\n",
       " 'sb1',\n",
       " 'sunvalleyidaho',\n",
       " 'mountain',\n",
       " 'thevoice',\n",
       " 'foodforlondonnow',\n",
       " 'ufcvegas34',\n",
       " 'dcfc',\n",
       " 'unityisstrength',\n",
       " 'blamejameson',\n",
       " 'olred',\n",
       " 'benignaparfums',\n",
       " 'murdershewrote',\n",
       " 'rcmemories',\n",
       " 'ninasimone',\n",
       " 'grinditout',\n",
       " 'galatasaray',\n",
       " 'hankskerchiefs',\n",
       " 'sleepingwiththeenemy',\n",
       " 'goodjab',\n",
       " 'khudkemazekhudse',\n",
       " 'totallyfocused',\n",
       " 'frankensteinsmonster',\n",
       " 'alwaysbelieve',\n",
       " 'nyfw',\n",
       " 'votingmatters',\n",
       " 'uxtra',\n",
       " 'asapkumukutikutitap',\n",
       " 'dueprocess',\n",
       " 'midnightidol',\n",
       " 'thekutegroupdairy',\n",
       " 'ncrediblegang',\n",
       " 'fuelyourfandomcontest',\n",
       " 'khashoggi',\n",
       " 'monicagilrodriguez',\n",
       " 'ilovehsn',\n",
       " 'homedepot',\n",
       " 'oys',\n",
       " 'macysfireworks',\n",
       " 'ripalex',\n",
       " 'rolltide',\n",
       " 'glitter20',\n",
       " 'becomingcousteau',\n",
       " 'antalya',\n",
       " 'laligasantander',\n",
       " 'wipeouttbs',\n",
       " 'winning',\n",
       " 'earthshotprize',\n",
       " 'asap26',\n",
       " 'pepsisodashop',\n",
       " 'surfacepartner',\n",
       " 'yfsfhothothot',\n",
       " 'addawordruinabook',\n",
       " 'thehateugive',\n",
       " 'themarfatapes',\n",
       " 'mvp',\n",
       " 'fitindiamovement',\n",
       " 'sanantonio',\n",
       " 'americanfisherman',\n",
       " 'proudpapa',\n",
       " 'shopeeph66midyearsale',\n",
       " 'americasgotterry',\n",
       " 'mandatorymetallica',\n",
       " 'theboss',\n",
       " 'clueless',\n",
       " 'nhc',\n",
       " 'idolradio2',\n",
       " 'coenbrothers',\n",
       " 'happybirthdaynamjoon',\n",
       " 'kargilvijaydiwas',\n",
       " 'superleague',\n",
       " 'rupaulsdragrace',\n",
       " 'healingjusticeproject',\n",
       " 'goldenboot',\n",
       " 'internationalsurfingday',\n",
       " 'freethevote',\n",
       " '10cric',\n",
       " 'loveafunfact',\n",
       " 'caf',\n",
       " 'myqueen',\n",
       " 'tweetyourmusic',\n",
       " 'outlanderatmidnight',\n",
       " 'teamemma',\n",
       " 'altctrl',\n",
       " 'happytimes',\n",
       " 'elvis',\n",
       " 'nativewomenequalpay',\n",
       " 'newyorkcigarnights',\n",
       " 'cozze',\n",
       " 'youllbeback',\n",
       " 'teachersday',\n",
       " 'makhiabryant',\n",
       " 'geoffstults',\n",
       " 'bigchristmasread',\n",
       " 'comedyshow',\n",
       " 'aggiepride',\n",
       " 'makeadifference',\n",
       " 'smackthat',\n",
       " 'newdadsplaybook',\n",
       " 'dogmeattrade',\n",
       " 'sakhiyanbellbottom',\n",
       " 'showtimegandakapoll',\n",
       " 'koopstudio',\n",
       " 'matteoguidicelli',\n",
       " 'hair',\n",
       " 'jamandlewisvol1',\n",
       " 'shakeshack',\n",
       " 'fed',\n",
       " 'cibellelevi',\n",
       " 'bigbreakfast',\n",
       " 'falalalala',\n",
       " 'fansmakethemovie',\n",
       " 'tkss',\n",
       " 'ourlegacy',\n",
       " 'justbeme',\n",
       " 'goingfrombroke',\n",
       " 'ronniekray',\n",
       " 'theroyaltytour',\n",
       " 'thornforparents',\n",
       " 'eltrafico',\n",
       " 'fieldofdreams',\n",
       " 'otr142',\n",
       " 'raysrock',\n",
       " 'addamsfamily2',\n",
       " 'mrpotter',\n",
       " 'back2back',\n",
       " 'keeppushing',\n",
       " 'willsmith',\n",
       " 'powerghost',\n",
       " 'glowanddarkness',\n",
       " 'vp',\n",
       " 'jordi',\n",
       " 'sliving',\n",
       " 'jennywright',\n",
       " 'summerslam',\n",
       " 'tde',\n",
       " 'sdcc2016',\n",
       " 'raidersofthelostark',\n",
       " 'indaruff',\n",
       " 'judydavis',\n",
       " 'axnallstars',\n",
       " 'prayforafghanistan',\n",
       " 'allmine',\n",
       " 'ufc241',\n",
       " 'stanfordindiacommunity',\n",
       " 'nflthegrind',\n",
       " 'baddie',\n",
       " 'race2',\n",
       " 'bestoneweekever',\n",
       " 'swagger',\n",
       " 'thedeepikapadukonecloset',\n",
       " 'chinesenewyear2021',\n",
       " 'seeinggreen',\n",
       " 'bs7',\n",
       " 'comedy',\n",
       " 'unitedcardevents',\n",
       " 'roshhashanah2021',\n",
       " 'nopressure',\n",
       " 'otr135',\n",
       " 'peoplesclimate',\n",
       " 'funkopop',\n",
       " 'reflections',\n",
       " 'anotherw',\n",
       " 'centralpark',\n",
       " 'priyamalik',\n",
       " 'ivoted',\n",
       " 'yeapnagamehai',\n",
       " 'arch',\n",
       " 'missuniverse',\n",
       " 'acatytff2021',\n",
       " 'otr136',\n",
       " 'whinylittlebitch',\n",
       " 'crownact',\n",
       " 'johnmaceri',\n",
       " 'mygrlfrnd',\n",
       " 'mealsonwheels',\n",
       " 'moustachepower',\n",
       " 'tokyoolympics',\n",
       " 'gogo',\n",
       " 'tokyo',\n",
       " 'staysafe',\n",
       " 'rashmivirag',\n",
       " 'foreverrich',\n",
       " 'borntobewild',\n",
       " 'laminateflooring',\n",
       " 'loveyourpetday',\n",
       " 'coyi',\n",
       " 'comingsoon',\n",
       " 'confidenceintomorrow',\n",
       " 'collide',\n",
       " 'cantgiveupnow',\n",
       " 'vimeo',\n",
       " 'ethiopia',\n",
       " 'machine',\n",
       " 'naacp',\n",
       " 'covidcollegechallenge',\n",
       " 'vbpaw20',\n",
       " 'heroes',\n",
       " 'racism',\n",
       " 'canpoli',\n",
       " 'millimeal',\n",
       " 'missyou',\n",
       " 'iseeataco',\n",
       " 'emilioestevez',\n",
       " 'mibinternational',\n",
       " 'sidebyside21',\n",
       " 'rajkaushal',\n",
       " 'watchalongwithrory',\n",
       " 'doggyvision',\n",
       " 'teamadidas',\n",
       " 'karannath',\n",
       " 'starmagiclovefromhome',\n",
       " 'thedevilsmile',\n",
       " 'classof2021',\n",
       " 'runvangelism',\n",
       " 'infinixnote10launch',\n",
       " 'venicebeach',\n",
       " 'topofthegroup',\n",
       " 'sonicmovie2',\n",
       " 'wallpaper',\n",
       " 'forevergratefulasakapamilya',\n",
       " 'congratsindia',\n",
       " 'usmnt',\n",
       " 'alexgonzaga',\n",
       " 'sbliraffle',\n",
       " 'thefalconandthewintersoldier',\n",
       " '5yearanniversaytrip',\n",
       " 'detroitmovie',\n",
       " 'zulu',\n",
       " 'keepmusicalive',\n",
       " 'legallyblonde',\n",
       " 'oneshiningmoment',\n",
       " 'makeitwithyou',\n",
       " 'invisiblehandfilm',\n",
       " 'comingout',\n",
       " 'underratedtour',\n",
       " 'goforgold',\n",
       " 'vma',\n",
       " 'crew',\n",
       " 'southendnews',\n",
       " 'healthiswealth',\n",
       " 'happyxmas',\n",
       " 'certifiedorganic',\n",
       " 'reactionvideo',\n",
       " 'starranch',\n",
       " 'nationalsisterday',\n",
       " 'showtimechinitanghali',\n",
       " 'womenmakefilm',\n",
       " 'malicksidibe',\n",
       " 'sounders',\n",
       " 'satsang',\n",
       " 'figs',\n",
       " 'sisterswedding',\n",
       " 'encounter',\n",
       " 'playerstogether',\n",
       " '11yearsofonedirection',\n",
       " 'ganpaticelebrations',\n",
       " 'aokisicehouse',\n",
       " 'joeallens',\n",
       " 'womenshockeyteam',\n",
       " 'predictivetext',\n",
       " 'thedamnpopup',\n",
       " 'uttarakhand',\n",
       " 'remembertulsa',\n",
       " 'bekisontherun',\n",
       " 'hbd',\n",
       " 'posseonbouldercrest',\n",
       " 'postlimon',\n",
       " 'startrekunitedgives',\n",
       " 'finaleday',\n",
       " 'okamimiami',\n",
       " 'stretch',\n",
       " 'mtv',\n",
       " 'amazonpartner',\n",
       " 'whenyouneedagoodpump',\n",
       " 'soundtracking',\n",
       " 'anggunmadametussauds',\n",
       " '4weeksoffocus',\n",
       " 'more',\n",
       " 'starwarsvisions',\n",
       " 'thisisyourtime',\n",
       " 'olympics2021',\n",
       " 'mexicocity',\n",
       " 'idoart',\n",
       " 'earwigmovie',\n",
       " 'bucsnation',\n",
       " 'togetherstronger',\n",
       " 'plies',\n",
       " 'glassesusapartner',\n",
       " 'shewalkswithapes',\n",
       " 'rushersworldwide',\n",
       " 'gulfxmclaren',\n",
       " 'missiontiger',\n",
       " 'mchg',\n",
       " 'tgsummerbreak',\n",
       " 'allianz',\n",
       " 'bigliam',\n",
       " 'purplemoney',\n",
       " 'paidpromotion',\n",
       " 'austriangp',\n",
       " 'nannynannybooboo',\n",
       " 'tidalfacts',\n",
       " 'nyfw2021',\n",
       " 'elmago',\n",
       " 'acmawards',\n",
       " 'twinflame',\n",
       " 'happinessbegins',\n",
       " 'greennewdeal',\n",
       " 'erinwalsh',\n",
       " 'hopefilmfestival',\n",
       " 'futureofsmallbusiness',\n",
       " '10thamendment',\n",
       " 'megamusiccountdownspecial',\n",
       " 'fresco',\n",
       " 'businessowner',\n",
       " 'hitmanswife',\n",
       " 'wehunttogether',\n",
       " 'vibe',\n",
       " 'electriczoosxm',\n",
       " 'honours',\n",
       " 'celebritysoftballgame',\n",
       " 'caniliveshow',\n",
       " '4hstemchallenge',\n",
       " 'teslabot',\n",
       " 'aewdynamite',\n",
       " 'mixedfamiliesduringanelection',\n",
       " 'gemini',\n",
       " 'lfgm',\n",
       " 'teamhaitohmazaahai',\n",
       " 'babyonboard',\n",
       " 'queendom',\n",
       " 'lunarnewyear',\n",
       " 'teammichael',\n",
       " 'bungacitralestari',\n",
       " 'backtoabnormaltour',\n",
       " 'yorkshireday',\n",
       " 'bemyself',\n",
       " 'becounted',\n",
       " 'joeylucasjoshlyman',\n",
       " 'inoffthesnozzle',\n",
       " 'movember',\n",
       " 'refugeeparalympicteam',\n",
       " 'afganistan',\n",
       " 'rkelly',\n",
       " 'mufc',\n",
       " 'arsenal',\n",
       " 'toldya',\n",
       " 'beingsalmankhan',\n",
       " 'worldsocialmediaday',\n",
       " 'flomillisupremacy',\n",
       " 'cecilystrong',\n",
       " 'popawu',\n",
       " 'ravikumardahiya',\n",
       " 'summersixteentour',\n",
       " 'premierleague',\n",
       " 'thelastshow',\n",
       " 'text4tigers',\n",
       " 'provide',\n",
       " 'mnf',\n",
       " 'funny',\n",
       " 'whitelotus',\n",
       " '20yearsofdilchahtahai',\n",
       " 'irishwolfhound',\n",
       " 'weare450',\n",
       " 'mortalkombat',\n",
       " 'mancity',\n",
       " 'midnight',\n",
       " 'milkhasingh',\n",
       " 'collectiveunconsciousness',\n",
       " 'happyanniversaryobsessed',\n",
       " 'fullyprepared',\n",
       " 'alleyesonkentucky',\n",
       " 'kickass',\n",
       " 'lalove',\n",
       " 'godzillachallenge',\n",
       " 'familygamefight',\n",
       " 'perfectstrokes',\n",
       " 'hktblaze',\n",
       " 'striveforgreatness',\n",
       " 'toasties',\n",
       " 'birthdaywishes',\n",
       " 'thelastbottleintheraffle',\n",
       " 'thebachelorabc',\n",
       " 'outsideshot',\n",
       " 'stillwater',\n",
       " 'samanantar',\n",
       " 'justcomedy',\n",
       " 'asappinoypride',\n",
       " 'chinesenewyear',\n",
       " 'ourgirl',\n",
       " 'teamepic',\n",
       " 'novexpartner',\n",
       " 'aigwo',\n",
       " 'seanlock',\n",
       " 'dominionxshow',\n",
       " 'ripbrodielee',\n",
       " 'hisdarkmaterials',\n",
       " 'aapiheritagemonth',\n",
       " 'childrenfirst',\n",
       " 'vbss22',\n",
       " 'theclarksisters',\n",
       " 'watauga',\n",
       " 'latenightstudio',\n",
       " 'flynnpics',\n",
       " 'treday',\n",
       " 'trumptydumpty',\n",
       " 'radhe',\n",
       " 'beliveatlanta',\n",
       " 'deathto2020',\n",
       " 'jacksonwang',\n",
       " 'vfbbvb',\n",
       " 'facup',\n",
       " 'upyourgame',\n",
       " 'den',\n",
       " '4thquarter',\n",
       " 'survivingrkelly',\n",
       " 'views',\n",
       " 'verizon5gsuperfan',\n",
       " 'ritainparis',\n",
       " 'moty',\n",
       " 'americanhoney',\n",
       " 'mislovenci',\n",
       " 'scentfromabove',\n",
       " 'loveyourw',\n",
       " 'nature',\n",
       " 'pridemonth2021',\n",
       " 'thenextepisode',\n",
       " 'cfda2021',\n",
       " 'mimosamusicseries',\n",
       " 'bravo',\n",
       " '뱀뱀',\n",
       " 'iheartawards',\n",
       " 'kennykontent',\n",
       " 'transdayofvisibility',\n",
       " 'talkagoodgame',\n",
       " 'capricorns',\n",
       " 'sashajairam',\n",
       " 'gtfo2020',\n",
       " 'lexilove',\n",
       " 'harts',\n",
       " 'virgonation',\n",
       " 'allthequeensmen',\n",
       " 'ashes',\n",
       " 'demconvention2020',\n",
       " 'murdermystery',\n",
       " 'alextrebek',\n",
       " 'rahofrshrahosafe',\n",
       " 'mildeluxe',\n",
       " 'yaks',\n",
       " 'tomorrow',\n",
       " 'whatasongcandotour',\n",
       " 'makeitmakesense',\n",
       " 'nationalhydrationday',\n",
       " 'bediorpink',\n",
       " 'gregabbotstan',\n",
       " 'loveitorleaveit',\n",
       " 'theduplex',\n",
       " 'infallible',\n",
       " 'aadhi',\n",
       " 'vishnuvaradhan',\n",
       " 'poland',\n",
       " 'seacreststudios',\n",
       " 'hotstarspecials',\n",
       " 'kimmich',\n",
       " 'issavibe',\n",
       " 'lastyearwascomplicated',\n",
       " 'borat',\n",
       " 'endchildfoodpoverty',\n",
       " 'waitinallday',\n",
       " 'trump202020',\n",
       " 'newalbum',\n",
       " 'mambaday',\n",
       " 'timeforglasses',\n",
       " 'cannabis',\n",
       " 'fib2020',\n",
       " 'alart',\n",
       " 'earthday',\n",
       " 'celebrityfamilyfeud',\n",
       " 'hatchingchange',\n",
       " 'amstel00',\n",
       " 'roadtoistanbul',\n",
       " 'blameitonmypast',\n",
       " 'moboawards',\n",
       " 'silksonic',\n",
       " 'partner',\n",
       " 'changeyourticket',\n",
       " 'payitforwardfriday',\n",
       " 'itwonthappenagainmaybe',\n",
       " 'thevisaaward',\n",
       " 'avanilekhara',\n",
       " 'breonnataylor',\n",
       " 'issacsteeleandtheforeverman',\n",
       " 'xqyearbook',\n",
       " 'f9',\n",
       " 'realdeal',\n",
       " 'tackle4mcr',\n",
       " 'nochallengenochange',\n",
       " 'nationalsportsday',\n",
       " 'jamesbayfilmproject',\n",
       " 'jodiefoster',\n",
       " 'sirius21',\n",
       " 'guiltyasnotcharged',\n",
       " 'kabhiitumhhe',\n",
       " 'charlieharperreturns',\n",
       " 'constitutionnotatechnicality',\n",
       " 'ssapp',\n",
       " 'outofbubblelife',\n",
       " 'mia',\n",
       " 'thebritawards',\n",
       " 'hitlikeiron',\n",
       " 'high',\n",
       " 'impeach',\n",
       " 'womensupportingwomen',\n",
       " 'happyinaugurationday',\n",
       " 'allmusicisblackmusic',\n",
       " 'sawanmeinlaggayiaag',\n",
       " 'ryfonnfy',\n",
       " 'americannight',\n",
       " 'bepositive',\n",
       " 'axieinfinity',\n",
       " 'metaverse',\n",
       " 'carlibybelxilmakiage',\n",
       " 'herecomethethankyous',\n",
       " 'popdungeon',\n",
       " 'ymapaa',\n",
       " 'financialliteracy',\n",
       " 'pertyaf',\n",
       " 'warriors',\n",
       " 'bloodlineseason2',\n",
       " 'seasonschange',\n",
       " 'fight',\n",
       " 'calveslikephil',\n",
       " 'clockwise',\n",
       " 'betweensusqueens',\n",
       " 'reinangtahanan',\n",
       " 'hisenseupgradeparty',\n",
       " 'cruella',\n",
       " 'season3',\n",
       " 'realhusbandsofhollywood',\n",
       " '31daysofoscars',\n",
       " 'theater',\n",
       " 'rugby',\n",
       " 'ripkb3',\n",
       " 'saaransh',\n",
       " 'peacemaker',\n",
       " 'denfin',\n",
       " 'wegotnow',\n",
       " 'oldtownroad',\n",
       " 'mycausemycleats',\n",
       " 'etherium',\n",
       " 'onlyatomaze',\n",
       " 'healing',\n",
       " 'ataleofwitchcraft',\n",
       " 'spookware',\n",
       " 'ganpatibappamorya',\n",
       " 'waxahachie',\n",
       " 'askx',\n",
       " 'raisaitspersonal',\n",
       " 'prayforlondon',\n",
       " 'maxidrew',\n",
       " 'dwts',\n",
       " 'eurovision',\n",
       " 'atlanticcity',\n",
       " 'ishelpreallyontheway',\n",
       " 'teamwang',\n",
       " 'siriusxm21',\n",
       " 'ataledarkandgrimm',\n",
       " 'comicconathome2021',\n",
       " 'savagemode',\n",
       " 'cm',\n",
       " 'hudsontaylor',\n",
       " 'collinbell',\n",
       " 'pandoramusic',\n",
       " 'cantbelievethisishappening',\n",
       " 'missionimpossiblefallout',\n",
       " 'champion',\n",
       " 'altfornorge',\n",
       " 'ootd',\n",
       " 'dream11ipl',\n",
       " 'techfest2020',\n",
       " 'pride2020',\n",
       " 'hostbodies',\n",
       " 'internationaldanceday',\n",
       " 'poshanmaah2021',\n",
       " 'fcp',\n",
       " 'brooklyn',\n",
       " 'lobsterroll',\n",
       " 'thefirstone',\n",
       " 'dfbpokal',\n",
       " 'husband',\n",
       " 'iheartcountry',\n",
       " 'weback',\n",
       " 'rcjh',\n",
       " 'thejump',\n",
       " 'thecut',\n",
       " 'thesuicidesquad',\n",
       " 'worldwaterday',\n",
       " 'bermonths',\n",
       " 'ebony',\n",
       " 'itsnotchristmastillsomebodycries',\n",
       " 'deltavariant',\n",
       " 'wandavision',\n",
       " 'besties',\n",
       " 'dateline',\n",
       " 'afghan',\n",
       " 'rosé',\n",
       " 'notoracism',\n",
       " 'noexcuses',\n",
       " 'latelateshow',\n",
       " 'startrekday',\n",
       " 'nbaplayoffs',\n",
       " 'holdingspace',\n",
       " 'supple',\n",
       " 'cynthiaerivo',\n",
       " 'cny2021',\n",
       " 'andrewyang',\n",
       " 'aprilfools',\n",
       " 'myheartgoes',\n",
       " 'mymarathonau',\n",
       " 'dogs',\n",
       " 'addawordruinatvshow',\n",
       " 'themayor',\n",
       " 'britishgp',\n",
       " 'theclarksistersmovie',\n",
       " 'wizardworldvirtualexperiences',\n",
       " 'bakerhalloween',\n",
       " 'letsgomountaineers',\n",
       " 'jetskilife',\n",
       " 'nonbinaryawarenessweek',\n",
       " 'sayhernamebreonnataylor',\n",
       " 'creepypasta',\n",
       " 'advice',\n",
       " 'trump',\n",
       " 'concert',\n",
       " 'malibuparty',\n",
       " 'easymoneysniper',\n",
       " 'shershaahonprime',\n",
       " 'lalala',\n",
       " 'butipaangscatchtapekumakapit',\n",
       " 'laundromatgigs',\n",
       " 'april1st',\n",
       " 'sebastiantaylorthomaz',\n",
       " 'shakespeareday',\n",
       " 'desibankscomedy',\n",
       " 'teamdeb',\n",
       " 'lookforthegoodlive',\n",
       " 'ticketegypt',\n",
       " 'klekentos',\n",
       " 'oldskool',\n",
       " 'charitybuzz',\n",
       " 'neveralone',\n",
       " 'wwe',\n",
       " 'codnation',\n",
       " 'vbchandrasekar',\n",
       " 'southafrica',\n",
       " 'pressure',\n",
       " 'bang',\n",
       " 'twinnem',\n",
       " 'ripkalaignar',\n",
       " 'oursong',\n",
       " 'globaldisorder',\n",
       " 'thankqrc',\n",
       " 'fourseasonssayan',\n",
       " 'workit',\n",
       " 'dontspoiltheendgame',\n",
       " 'canncanngrrrl',\n",
       " 'odom',\n",
       " 'timetodance',\n",
       " 'alma',\n",
       " 'nellyville',\n",
       " 'indy500',\n",
       " 'atlanta',\n",
       " 'jointhefight',\n",
       " 'houseofcards',\n",
       " 'chips',\n",
       " 'perfectfan',\n",
       " 'tgit',\n",
       " 'newprofilepic',\n",
       " 'ourapartner',\n",
       " 'zoomwhereithappens',\n",
       " 'tbirds',\n",
       " 'nychomecomingweek',\n",
       " 'pandemica',\n",
       " 'samanthamaloney',\n",
       " 'venom',\n",
       " 'deb',\n",
       " 'day5',\n",
       " 'thierryhenry',\n",
       " 'breakingnews',\n",
       " 'tiffanypartner',\n",
       " 'ftxyouin',\n",
       " 'arawngkalayaan',\n",
       " 'bestsupportingactornominee',\n",
       " 'triller',\n",
       " 'thetrendpear',\n",
       " 'bleedblue',\n",
       " 'satyamevajayate',\n",
       " 'bobodenkirk',\n",
       " 'fuzzythealpaca',\n",
       " 'praywithgaryv',\n",
       " '12monkeys',\n",
       " 'juventus',\n",
       " 'wfttwtaf',\n",
       " 'thephoenix',\n",
       " 'raiden',\n",
       " 'rippradeepguha',\n",
       " 'thehundred',\n",
       " 'kunalgupta',\n",
       " 'dontspeak',\n",
       " 'generationequality',\n",
       " 'nickcannonshow',\n",
       " 'eidaladha',\n",
       " 'siam20',\n",
       " 'seeusunite',\n",
       " 'pregame',\n",
       " 'storytellerseries',\n",
       " 'farmersprotest',\n",
       " 'doseofdrdrew',\n",
       " 'inreallifecomedytour',\n",
       " 'kcas',\n",
       " 'bronze',\n",
       " 'help',\n",
       " 'kkkmadeinindia',\n",
       " 'toxic',\n",
       " 'calirose',\n",
       " 'offroad',\n",
       " 'drunkandidontwannagohome',\n",
       " 'enhypen',\n",
       " 'happyweekend',\n",
       " 'thetenthanniversary',\n",
       " 'alwaysreachforthesky',\n",
       " 'believeinyourself',\n",
       " '30under30',\n",
       " 'pmqs',\n",
       " 'climateaction',\n",
       " 'summerisover',\n",
       " 'madden22',\n",
       " 'bestfriends',\n",
       " 'futurerave',\n",
       " 'lovereturns',\n",
       " 'dive',\n",
       " 'tblightning',\n",
       " 'mylife25',\n",
       " 'nft',\n",
       " 'fall',\n",
       " 'otr134',\n",
       " 'math',\n",
       " 'ganpatiaarti',\n",
       " 'iamkong',\n",
       " 'streamerbowl2',\n",
       " 'womensequalityday',\n",
       " 'afterlife3',\n",
       " 'travelwithfala',\n",
       " 'summercitrus',\n",
       " 'chicago',\n",
       " 'leamicheleonamericanidol',\n",
       " 'wearableart',\n",
       " 'novanation',\n",
       " 'ahmaudarbery',\n",
       " 'ipl2021',\n",
       " 'debate2021',\n",
       " 'mysonshine',\n",
       " 'topgolfnationalharbor',\n",
       " 'wearredday',\n",
       " 'voodooroom',\n",
       " 'clarkterry100',\n",
       " 'hwstyle',\n",
       " 'bonfulton',\n",
       " 'y',\n",
       " 'spotify',\n",
       " '20yearsold',\n",
       " 'ifs',\n",
       " 'avatrade',\n",
       " 'sushantsinghrajput',\n",
       " 'zambia',\n",
       " 'dual',\n",
       " 'attackofcuteness',\n",
       " 'chocolaterules',\n",
       " 'southsudan',\n",
       " 'hotones',\n",
       " 'empoweredbyaninebing',\n",
       " 'spatialaudio',\n",
       " 'babyshower',\n",
       " 'allabouttonight',\n",
       " 'ufc257',\n",
       " 'perspective',\n",
       " 'bestdadever',\n",
       " 'astrokeofgreatness',\n",
       " 'omsairam',\n",
       " 'pumaone',\n",
       " 'spinningout',\n",
       " 'toxicbrokenness',\n",
       " 'saturdaymood',\n",
       " ...]"
      ]
     },
     "execution_count": 52,
     "metadata": {},
     "output_type": "execute_result"
    }
   ],
   "source": [
    "lst"
   ]
  },
  {
   "cell_type": "code",
   "execution_count": 62,
   "id": "3e6c82d8",
   "metadata": {},
   "outputs": [
    {
     "data": {
      "text/plain": [
       "0                          [[model]]\n",
       "1       [[football, wide, receiver]]\n",
       "2              [[singer], [actress]]\n",
       "3              [[actor], [comedian]]\n",
       "4       [[football, wide, receiver]]\n",
       "                    ...             \n",
       "1319           [[actor], [producer]]\n",
       "1320             [[actor], [author]]\n",
       "1321     [[baritone, opera, singer]]\n",
       "1322                      [[singer]]\n",
       "1323             [[soprano, singer]]\n",
       "Name: embed, Length: 1324, dtype: object"
      ]
     },
     "execution_count": 62,
     "metadata": {},
     "output_type": "execute_result"
    }
   ],
   "source": [
    "data['embed']=data['Jobs'].apply(lambda x:x.rsplit(',')[:2]).apply(lambda x:[s.strip().lower().rsplit(' ') for s in x])\n",
    "data['embed']"
   ]
  },
  {
   "cell_type": "code",
   "execution_count": 63,
   "id": "382dd023",
   "metadata": {},
   "outputs": [
    {
     "data": {
      "text/plain": [
       "'game'"
      ]
     },
     "execution_count": 63,
     "metadata": {},
     "output_type": "execute_result"
    }
   ],
   "source": [
    "find_closest_embeddings(sum([embeddings_dict[item] for item in ['video', 'game', 'programmer']]))[0]"
   ]
  },
  {
   "cell_type": "code",
   "execution_count": null,
   "id": "5ca5f5fd",
   "metadata": {},
   "outputs": [],
   "source": [
    "sel=[0]*len(data)\n",
    "for i, item in enumerate(data['embed']):\n",
    "    try:\n",
    "        sel[i]=[find_closest_embeddings(sum([embeddings_dict[item] for item in lst]))[0] for lst in item]\n",
    "    except:\n",
    "        sel[i]=[]\n",
    "        print(\"Error arise from index {}\".format(i))\n",
    "    print(i)\n",
    "            \n",
    "data['embed']=pd.Series(sel)"
   ]
  },
  {
   "cell_type": "markdown",
   "id": "4c915e3c",
   "metadata": {},
   "source": [
    "Find and fix the null embeddings"
   ]
  },
  {
   "cell_type": "code",
   "execution_count": null,
   "id": "b7ebe96e",
   "metadata": {},
   "outputs": [],
   "source": [
    "data['embed'][data['embed'].apply(lambda x:len(x))==0]"
   ]
  },
  {
   "cell_type": "code",
   "execution_count": 71,
   "id": "56945879",
   "metadata": {
    "scrolled": true
   },
   "outputs": [
    {
     "data": {
      "text/html": [
       "<div>\n",
       "<style scoped>\n",
       "    .dataframe tbody tr th:only-of-type {\n",
       "        vertical-align: middle;\n",
       "    }\n",
       "\n",
       "    .dataframe tbody tr th {\n",
       "        vertical-align: top;\n",
       "    }\n",
       "\n",
       "    .dataframe thead th {\n",
       "        text-align: right;\n",
       "    }\n",
       "</style>\n",
       "<table border=\"1\" class=\"dataframe\">\n",
       "  <thead>\n",
       "    <tr style=\"text-align: right;\">\n",
       "      <th></th>\n",
       "      <th>username</th>\n",
       "      <th>name</th>\n",
       "      <th>tweet</th>\n",
       "      <th>hashtags</th>\n",
       "      <th>Jobs</th>\n",
       "      <th>bio</th>\n",
       "      <th>embed</th>\n",
       "    </tr>\n",
       "  </thead>\n",
       "  <tbody>\n",
       "    <tr>\n",
       "      <th>0</th>\n",
       "      <td>GiGiHadid</td>\n",
       "      <td>Gigi Hadid</td>\n",
       "      <td>['few things 😋🙃😘', 'You were facing the right ...</td>\n",
       "      <td>giforce</td>\n",
       "      <td>model</td>\n",
       "      <td>IMG Models Worldwide. #giforce</td>\n",
       "      <td>[[model]]</td>\n",
       "    </tr>\n",
       "    <tr>\n",
       "      <th>1</th>\n",
       "      <td>Cantguardmike</td>\n",
       "      <td>Michael William Thomas Jr.</td>\n",
       "      <td>['Facts !', '@jhardee_19 called it like 2 mont...</td>\n",
       "      <td>gobucks</td>\n",
       "      <td>football wide receiver</td>\n",
       "      <td>GOD GOT US</td>\n",
       "      <td>[[football, wide, receiver]]</td>\n",
       "    </tr>\n",
       "    <tr>\n",
       "      <th>2</th>\n",
       "      <td>IAMJHUD</td>\n",
       "      <td>Jennifer Hudson</td>\n",
       "      <td>['Team JHud, please help me wish my Virgo sist...</td>\n",
       "      <td>neverforget,baobabstudios,respectmovie,ebony,v...</td>\n",
       "      <td>singer , actress</td>\n",
       "      <td>Grammy winning Artist, Academy Award winning A...</td>\n",
       "      <td>[[singer], [actress]]</td>\n",
       "    </tr>\n",
       "    <tr>\n",
       "      <th>3</th>\n",
       "      <td>lukajones</td>\n",
       "      <td>Luka Jones</td>\n",
       "      <td>['@johnnypemberton Here we go 🏈', 'gracias for...</td>\n",
       "      <td>goclippers,rcjh,topcity,goblue,rcjh</td>\n",
       "      <td>actor , comedian</td>\n",
       "      <td>actor (Shrill &amp; People of Earth both on @hulu)...</td>\n",
       "      <td>[[actor], [comedian]]</td>\n",
       "    </tr>\n",
       "    <tr>\n",
       "      <th>4</th>\n",
       "      <td>rcobb18</td>\n",
       "      <td>Randall Cobb (American football)</td>\n",
       "      <td>['Man It Feels Good to Be a Packer  https://t....</td>\n",
       "      <td>mvp,ad,winitforted,jerseyswap,verzuz,ad,jersey...</td>\n",
       "      <td>football wide receiver</td>\n",
       "      <td>Faith in the Creator of Life. Husband. Father....</td>\n",
       "      <td>[[football, wide, receiver]]</td>\n",
       "    </tr>\n",
       "    <tr>\n",
       "      <th>...</th>\n",
       "      <td>...</td>\n",
       "      <td>...</td>\n",
       "      <td>...</td>\n",
       "      <td>...</td>\n",
       "      <td>...</td>\n",
       "      <td>...</td>\n",
       "      <td>...</td>\n",
       "    </tr>\n",
       "    <tr>\n",
       "      <th>1319</th>\n",
       "      <td>ColinHanks</td>\n",
       "      <td>Colin Hanks</td>\n",
       "      <td>['@PFTompkins The old man has a pretty sweet c...</td>\n",
       "      <td>hankskerchiefs,hankskerchiefs,beready,beready,tbt</td>\n",
       "      <td>actor , producer , director</td>\n",
       "      <td></td>\n",
       "      <td>[[actor], [producer]]</td>\n",
       "    </tr>\n",
       "    <tr>\n",
       "      <th>1320</th>\n",
       "      <td>CraigyFerg</td>\n",
       "      <td>Craig Ferguson</td>\n",
       "      <td>['Tonight! @TheHustlerABC @ABCNetwork #thecrai...</td>\n",
       "      <td>thecraigfergusonshow,thecraigfergusonshow,theh...</td>\n",
       "      <td>actor , author , comedian , television host</td>\n",
       "      <td></td>\n",
       "      <td>[[actor], [author]]</td>\n",
       "    </tr>\n",
       "    <tr>\n",
       "      <th>1321</th>\n",
       "      <td>GeraldFinley</td>\n",
       "      <td>Gerald Finley</td>\n",
       "      <td>['@Twiz007 @DonaldMacleod01 @juliusdrake @edin...</td>\n",
       "      <td>bluebeardscastle,otello,otello,dongiovanni,don...</td>\n",
       "      <td>baritone opera singer</td>\n",
       "      <td></td>\n",
       "      <td>[[baritone, opera, singer]]</td>\n",
       "    </tr>\n",
       "    <tr>\n",
       "      <th>1322</th>\n",
       "      <td>Emily_Estefan</td>\n",
       "      <td>Emily Estefan</td>\n",
       "      <td>['Just posted a photo  https://t.co/ck0baQ3egI...</td>\n",
       "      <td>damnitnova,davenavarro,imissmyband,purplemoney...</td>\n",
       "      <td>singer</td>\n",
       "      <td></td>\n",
       "      <td>[[singer]]</td>\n",
       "    </tr>\n",
       "    <tr>\n",
       "      <th>1323</th>\n",
       "      <td>NatashaMarsh</td>\n",
       "      <td>Natasha Marsh</td>\n",
       "      <td>['@ronen_shefer @JOHNRC2014 Thank you very muc...</td>\n",
       "      <td>fawales,romanticsanonymous,shinewalk2017,choco...</td>\n",
       "      <td>soprano singer</td>\n",
       "      <td></td>\n",
       "      <td>[[soprano, singer]]</td>\n",
       "    </tr>\n",
       "  </tbody>\n",
       "</table>\n",
       "<p>1324 rows × 7 columns</p>\n",
       "</div>"
      ],
      "text/plain": [
       "           username                              name  \\\n",
       "0         GiGiHadid                        Gigi Hadid   \n",
       "1     Cantguardmike        Michael William Thomas Jr.   \n",
       "2           IAMJHUD                   Jennifer Hudson   \n",
       "3         lukajones                        Luka Jones   \n",
       "4           rcobb18  Randall Cobb (American football)   \n",
       "...             ...                               ...   \n",
       "1319     ColinHanks                       Colin Hanks   \n",
       "1320     CraigyFerg                    Craig Ferguson   \n",
       "1321   GeraldFinley                     Gerald Finley   \n",
       "1322  Emily_Estefan                     Emily Estefan   \n",
       "1323   NatashaMarsh                     Natasha Marsh   \n",
       "\n",
       "                                                  tweet  \\\n",
       "0     ['few things 😋🙃😘', 'You were facing the right ...   \n",
       "1     ['Facts !', '@jhardee_19 called it like 2 mont...   \n",
       "2     ['Team JHud, please help me wish my Virgo sist...   \n",
       "3     ['@johnnypemberton Here we go 🏈', 'gracias for...   \n",
       "4     ['Man It Feels Good to Be a Packer  https://t....   \n",
       "...                                                 ...   \n",
       "1319  ['@PFTompkins The old man has a pretty sweet c...   \n",
       "1320  ['Tonight! @TheHustlerABC @ABCNetwork #thecrai...   \n",
       "1321  ['@Twiz007 @DonaldMacleod01 @juliusdrake @edin...   \n",
       "1322  ['Just posted a photo  https://t.co/ck0baQ3egI...   \n",
       "1323  ['@ronen_shefer @JOHNRC2014 Thank you very muc...   \n",
       "\n",
       "                                               hashtags  \\\n",
       "0                                               giforce   \n",
       "1                                               gobucks   \n",
       "2     neverforget,baobabstudios,respectmovie,ebony,v...   \n",
       "3                   goclippers,rcjh,topcity,goblue,rcjh   \n",
       "4     mvp,ad,winitforted,jerseyswap,verzuz,ad,jersey...   \n",
       "...                                                 ...   \n",
       "1319  hankskerchiefs,hankskerchiefs,beready,beready,tbt   \n",
       "1320  thecraigfergusonshow,thecraigfergusonshow,theh...   \n",
       "1321  bluebeardscastle,otello,otello,dongiovanni,don...   \n",
       "1322  damnitnova,davenavarro,imissmyband,purplemoney...   \n",
       "1323  fawales,romanticsanonymous,shinewalk2017,choco...   \n",
       "\n",
       "                                             Jobs  \\\n",
       "0                                           model   \n",
       "1                          football wide receiver   \n",
       "2                                singer , actress   \n",
       "3                                actor , comedian   \n",
       "4                          football wide receiver   \n",
       "...                                           ...   \n",
       "1319                  actor , producer , director   \n",
       "1320  actor , author , comedian , television host   \n",
       "1321                        baritone opera singer   \n",
       "1322                                       singer   \n",
       "1323                               soprano singer   \n",
       "\n",
       "                                                    bio  \\\n",
       "0                        IMG Models Worldwide. #giforce   \n",
       "1                                            GOD GOT US   \n",
       "2     Grammy winning Artist, Academy Award winning A...   \n",
       "3     actor (Shrill & People of Earth both on @hulu)...   \n",
       "4     Faith in the Creator of Life. Husband. Father....   \n",
       "...                                                 ...   \n",
       "1319                                                      \n",
       "1320                                                      \n",
       "1321                                                      \n",
       "1322                                                      \n",
       "1323                                                      \n",
       "\n",
       "                             embed  \n",
       "0                        [[model]]  \n",
       "1     [[football, wide, receiver]]  \n",
       "2            [[singer], [actress]]  \n",
       "3            [[actor], [comedian]]  \n",
       "4     [[football, wide, receiver]]  \n",
       "...                            ...  \n",
       "1319         [[actor], [producer]]  \n",
       "1320           [[actor], [author]]  \n",
       "1321   [[baritone, opera, singer]]  \n",
       "1322                    [[singer]]  \n",
       "1323           [[soprano, singer]]  \n",
       "\n",
       "[1324 rows x 7 columns]"
      ]
     },
     "execution_count": 71,
     "metadata": {},
     "output_type": "execute_result"
    }
   ],
   "source": [
    "data.to_excel('User_embedding.xlsx', sheet_name='sheet1', index=False)"
   ]
  }
 ],
 "metadata": {
  "kernelspec": {
   "display_name": "Python 3",
   "language": "python",
   "name": "python3"
  },
  "language_info": {
   "codemirror_mode": {
    "name": "ipython",
    "version": 3
   },
   "file_extension": ".py",
   "mimetype": "text/x-python",
   "name": "python",
   "nbconvert_exporter": "python",
   "pygments_lexer": "ipython3",
   "version": "3.8.8"
  }
 },
 "nbformat": 4,
 "nbformat_minor": 5
}
