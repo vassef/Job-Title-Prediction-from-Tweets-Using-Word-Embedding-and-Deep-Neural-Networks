{
  "nbformat": 4,
  "nbformat_minor": 0,
  "metadata": {
    "colab": {
      "name": "Logistic_regression.ipynb",
      "provenance": [],
      "collapsed_sections": []
    },
    "kernelspec": {
      "display_name": "Python 3",
      "name": "python3"
    },
    "language_info": {
      "name": "python"
    }
  },
  "cells": [
    {
      "cell_type": "code",
      "metadata": {
        "colab": {
          "resources": {
            "http://localhost:8080/nbextensions/google.colab/files.js": {
              "data": "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",
              "ok": true,
              "headers": [
                [
                  "content-type",
                  "application/javascript"
                ]
              ],
              "status": 200,
              "status_text": ""
            }
          },
          "base_uri": "https://localhost:8080/",
          "height": 73
        },
        "id": "muVfpY1-n8jF",
        "outputId": "9f43b60d-4846-40e9-d5ef-89a691348def"
      },
      "source": [
        "import pandas as pd\n",
        "from google.colab import files\n",
        "uploaded=files.upload()"
      ],
      "execution_count": 1,
      "outputs": [
        {
          "output_type": "display_data",
          "data": {
            "text/html": [
              "\n",
              "     <input type=\"file\" id=\"files-72530779-c9cf-4804-b330-e0556a90589f\" name=\"files[]\" multiple disabled\n",
              "        style=\"border:none\" />\n",
              "     <output id=\"result-72530779-c9cf-4804-b330-e0556a90589f\">\n",
              "      Upload widget is only available when the cell has been executed in the\n",
              "      current browser session. Please rerun this cell to enable.\n",
              "      </output>\n",
              "      <script src=\"/nbextensions/google.colab/files.js\"></script> "
            ],
            "text/plain": [
              "<IPython.core.display.HTML object>"
            ]
          },
          "metadata": {}
        },
        {
          "output_type": "stream",
          "name": "stdout",
          "text": [
            "Saving FDF.xlsx to FDF.xlsx\n"
          ]
        }
      ]
    },
    {
      "cell_type": "code",
      "metadata": {
        "colab": {
          "base_uri": "https://localhost:8080/",
          "height": 1000
        },
        "id": "sKeIYB0encu2",
        "outputId": "3f679e61-5741-4f8a-d74c-af0864131c8e"
      },
      "source": [
        "import io\n",
        "data=pd.read_excel(io.BytesIO(uploaded['FDF.xlsx']))\n",
        "data"
      ],
      "execution_count": 2,
      "outputs": [
        {
          "output_type": "execute_result",
          "data": {
            "text/html": [
              "<div>\n",
              "<style scoped>\n",
              "    .dataframe tbody tr th:only-of-type {\n",
              "        vertical-align: middle;\n",
              "    }\n",
              "\n",
              "    .dataframe tbody tr th {\n",
              "        vertical-align: top;\n",
              "    }\n",
              "\n",
              "    .dataframe thead th {\n",
              "        text-align: right;\n",
              "    }\n",
              "</style>\n",
              "<table border=\"1\" class=\"dataframe\">\n",
              "  <thead>\n",
              "    <tr style=\"text-align: right;\">\n",
              "      <th></th>\n",
              "      <th>username</th>\n",
              "      <th>name</th>\n",
              "      <th>tweet</th>\n",
              "      <th>hashtags</th>\n",
              "      <th>Jobs</th>\n",
              "      <th>embed</th>\n",
              "      <th>bio</th>\n",
              "      <th>main_Job</th>\n",
              "      <th>CLUSTERS</th>\n",
              "      <th>emojie</th>\n",
              "      <th>tweet_comb</th>\n",
              "      <th>pre_pro</th>\n",
              "      <th>No_emo</th>\n",
              "      <th>bio_new</th>\n",
              "      <th>hashtags_subs</th>\n",
              "      <th>pre_pro_RHRW</th>\n",
              "      <th>pre_pro_RH</th>\n",
              "      <th>pre_pro_RHW</th>\n",
              "    </tr>\n",
              "  </thead>\n",
              "  <tbody>\n",
              "    <tr>\n",
              "      <th>0</th>\n",
              "      <td>GiGiHadid</td>\n",
              "      <td>Gigi Hadid</td>\n",
              "      <td>['few things 😋🙃😘', 'You were facing the right ...</td>\n",
              "      <td>giforce</td>\n",
              "      <td>model</td>\n",
              "      <td>['model']</td>\n",
              "      <td>IMG Models Worldwide. #giforce</td>\n",
              "      <td>model</td>\n",
              "      <td>2</td>\n",
              "      <td>sparkles</td>\n",
              "      <td>IMG Models Worldwide. #giforce ['few things ',...</td>\n",
              "      <td>img models worldwide thing face right way exac...</td>\n",
              "      <td>IMG Models Worldwide. #giforce</td>\n",
              "      <td>img models worldwide</td>\n",
              "      <td>giforce</td>\n",
              "      <td>img models worldwide thing face right way exac...</td>\n",
              "      <td>img models worldwide thing face right way exac...</td>\n",
              "      <td>img models worldwide thing face right way exac...</td>\n",
              "    </tr>\n",
              "    <tr>\n",
              "      <th>1</th>\n",
              "      <td>Cantguardmike</td>\n",
              "      <td>Michael William Thomas Jr.</td>\n",
              "      <td>['Facts !', '@jhardee_19 called it like 2 mont...</td>\n",
              "      <td>gobucks</td>\n",
              "      <td>football wide receiver</td>\n",
              "      <td>['receiver']</td>\n",
              "      <td>GOD GOT US</td>\n",
              "      <td>footballer</td>\n",
              "      <td>3</td>\n",
              "      <td>NaN</td>\n",
              "      <td>GOD GOT US ['Facts !', '@jhardee_19 called it ...</td>\n",
              "      <td>fact call like month ago congratulation get re...</td>\n",
              "      <td>GOD GOT US</td>\n",
              "      <td>NaN</td>\n",
              "      <td>gobucks</td>\n",
              "      <td>fact call like month ago congratulation get re...</td>\n",
              "      <td>fact call like month ago congratulation get re...</td>\n",
              "      <td>fact call like month ago congratulation get re...</td>\n",
              "    </tr>\n",
              "    <tr>\n",
              "      <th>2</th>\n",
              "      <td>IAMJHUD</td>\n",
              "      <td>Jennifer Hudson</td>\n",
              "      <td>['Team JHud, please help me wish my Virgo sist...</td>\n",
              "      <td>neverforget,baobabstudios,respectmovie,ebony,v...</td>\n",
              "      <td>singer , actress</td>\n",
              "      <td>['singer', 'actress']</td>\n",
              "      <td>Grammy winning Artist, Academy Award winning A...</td>\n",
              "      <td>singer actress</td>\n",
              "      <td>4</td>\n",
              "      <td>sparkles</td>\n",
              "      <td>Grammy winning Artist, Academy Award winning A...</td>\n",
              "      <td>grammy win artist academy award win actress ne...</td>\n",
              "      <td>Grammy winning Artist, Academy Award winning A...</td>\n",
              "      <td>grammy win artist academy award win actress ne...</td>\n",
              "      <td>business twitter</td>\n",
              "      <td>grammy win artist academy award win actress ne...</td>\n",
              "      <td>grammy win artist academy award win actress ne...</td>\n",
              "      <td>grammy win artist academy award win actress ne...</td>\n",
              "    </tr>\n",
              "    <tr>\n",
              "      <th>3</th>\n",
              "      <td>lukajones</td>\n",
              "      <td>Luka Jones</td>\n",
              "      <td>['@johnnypemberton Here we go 🏈', 'gracias for...</td>\n",
              "      <td>goclippers,rcjh,topcity,goblue,rcjh</td>\n",
              "      <td>actor , comedian</td>\n",
              "      <td>['actor', 'comedian']</td>\n",
              "      <td>actor (Shrill &amp; People of Earth both on @hulu)...</td>\n",
              "      <td>actor comedian</td>\n",
              "      <td>6</td>\n",
              "      <td>baseball football basketball</td>\n",
              "      <td>actor (Shrill &amp; People of Earth both on @hulu)...</td>\n",
              "      <td>actor thrill people earth philosophy reader ch...</td>\n",
              "      <td>actor (Shrill &amp; People of Earth both on @hulu)...</td>\n",
              "      <td>actor thrill people earth philosophy reader ch...</td>\n",
              "      <td>thrill people</td>\n",
              "      <td>actor thrill people earth philosophy reader ch...</td>\n",
              "      <td>actor thrill people earth philosophy reader ch...</td>\n",
              "      <td>actor thrill people earth philosophy reader ch...</td>\n",
              "    </tr>\n",
              "    <tr>\n",
              "      <th>4</th>\n",
              "      <td>rcobb18</td>\n",
              "      <td>Randall Cobb (American football)</td>\n",
              "      <td>['Man It Feels Good to Be a Packer  https://t....</td>\n",
              "      <td>mvp,ad,winitforted,jerseyswap,verzuz,ad,jersey...</td>\n",
              "      <td>football wide receiver</td>\n",
              "      <td>['receiver']</td>\n",
              "      <td>Faith in the Creator of Life. Husband. Father....</td>\n",
              "      <td>footballer</td>\n",
              "      <td>3</td>\n",
              "      <td>football</td>\n",
              "      <td>Faith in the Creator of Life. Husband. Father....</td>\n",
              "      <td>faith creator life husband father son brother ...</td>\n",
              "      <td>Faith in the Creator of Life. Husband. Father....</td>\n",
              "      <td>faith creator life husband father son brother ...</td>\n",
              "      <td>creator faith</td>\n",
              "      <td>faith creator life husband father son brother ...</td>\n",
              "      <td>faith creator life husband father son brother ...</td>\n",
              "      <td>faith creator life husband father son brother ...</td>\n",
              "    </tr>\n",
              "    <tr>\n",
              "      <th>...</th>\n",
              "      <td>...</td>\n",
              "      <td>...</td>\n",
              "      <td>...</td>\n",
              "      <td>...</td>\n",
              "      <td>...</td>\n",
              "      <td>...</td>\n",
              "      <td>...</td>\n",
              "      <td>...</td>\n",
              "      <td>...</td>\n",
              "      <td>...</td>\n",
              "      <td>...</td>\n",
              "      <td>...</td>\n",
              "      <td>...</td>\n",
              "      <td>...</td>\n",
              "      <td>...</td>\n",
              "      <td>...</td>\n",
              "      <td>...</td>\n",
              "      <td>...</td>\n",
              "    </tr>\n",
              "    <tr>\n",
              "      <th>1309</th>\n",
              "      <td>ColinHanks</td>\n",
              "      <td>Colin Hanks</td>\n",
              "      <td>['@PFTompkins The old man has a pretty sweet c...</td>\n",
              "      <td>hankskerchiefs,hankskerchiefs,beready,beready,tbt</td>\n",
              "      <td>actor , producer , director</td>\n",
              "      <td>['actor', 'producer']</td>\n",
              "      <td>NaN</td>\n",
              "      <td>actor producer</td>\n",
              "      <td>6</td>\n",
              "      <td>NaN</td>\n",
              "      <td>['@PFTompkins The old man has a pretty sweet ...</td>\n",
              "      <td>old man pretty sweet chariot right well play m...</td>\n",
              "      <td>NaN</td>\n",
              "      <td>NaN</td>\n",
              "      <td>official com</td>\n",
              "      <td>old man pretty sweet chariot right well play m...</td>\n",
              "      <td>old man pretty sweet chariot right well play m...</td>\n",
              "      <td>old man pretty sweet chariot right well play m...</td>\n",
              "    </tr>\n",
              "    <tr>\n",
              "      <th>1310</th>\n",
              "      <td>CraigyFerg</td>\n",
              "      <td>Craig Ferguson</td>\n",
              "      <td>['Tonight! @TheHustlerABC @ABCNetwork #thecrai...</td>\n",
              "      <td>thecraigfergusonshow,thecraigfergusonshow,theh...</td>\n",
              "      <td>actor , author , comedian , television host</td>\n",
              "      <td>['actor', 'author']</td>\n",
              "      <td>NaN</td>\n",
              "      <td>actor author</td>\n",
              "      <td>1</td>\n",
              "      <td>NaN</td>\n",
              "      <td>['Tonight! @TheHustlerABC @ABCNetwork #thecra...</td>\n",
              "      <td>tonight thursday june season premiere miss sus...</td>\n",
              "      <td>NaN</td>\n",
              "      <td>NaN</td>\n",
              "      <td>instagram thehustler</td>\n",
              "      <td>tonight thursday june season premiere miss sus...</td>\n",
              "      <td>tonight thursday june season premiere miss sus...</td>\n",
              "      <td>tonight thursday june season premiere miss sus...</td>\n",
              "    </tr>\n",
              "    <tr>\n",
              "      <th>1311</th>\n",
              "      <td>GeraldFinley</td>\n",
              "      <td>Gerald Finley</td>\n",
              "      <td>['@Twiz007 @DonaldMacleod01 @juliusdrake @edin...</td>\n",
              "      <td>bluebeardscastle,otello,otello,dongiovanni,don...</td>\n",
              "      <td>baritone opera singer</td>\n",
              "      <td>['singer']</td>\n",
              "      <td>NaN</td>\n",
              "      <td>singer</td>\n",
              "      <td>2</td>\n",
              "      <td>christmas tree</td>\n",
              "      <td>['@Twiz007 @DonaldMacleod01 @juliusdrake @edi...</td>\n",
              "      <td>interest ready edinburgh good morning edinburg...</td>\n",
              "      <td>NaN</td>\n",
              "      <td>NaN</td>\n",
              "      <td>dongiovanni com</td>\n",
              "      <td>interest ready edinburgh good morning edinburg...</td>\n",
              "      <td>interest ready edinburgh good morning edinburg...</td>\n",
              "      <td>interest ready edinburgh good morning edinburg...</td>\n",
              "    </tr>\n",
              "    <tr>\n",
              "      <th>1312</th>\n",
              "      <td>Emily_Estefan</td>\n",
              "      <td>Emily Estefan</td>\n",
              "      <td>['Just posted a photo  https://t.co/ck0baQ3egI...</td>\n",
              "      <td>damnitnova,davenavarro,imissmyband,purplemoney...</td>\n",
              "      <td>singer</td>\n",
              "      <td>['singer']</td>\n",
              "      <td>NaN</td>\n",
              "      <td>singer</td>\n",
              "      <td>2</td>\n",
              "      <td>NaN</td>\n",
              "      <td>['Just posted a photo  https://t.co/ck0baQ3eg...</td>\n",
              "      <td>post photo post photo three cheer brands baske...</td>\n",
              "      <td>NaN</td>\n",
              "      <td>NaN</td>\n",
              "      <td>com official</td>\n",
              "      <td>post photo post photo three cheer brands baske...</td>\n",
              "      <td>post photo post photo three cheer brands baske...</td>\n",
              "      <td>post photo post photo three cheer brands baske...</td>\n",
              "    </tr>\n",
              "    <tr>\n",
              "      <th>1313</th>\n",
              "      <td>NatashaMarsh</td>\n",
              "      <td>Natasha Marsh</td>\n",
              "      <td>['@ronen_shefer @JOHNRC2014 Thank you very muc...</td>\n",
              "      <td>fawales,romanticsanonymous,shinewalk2017,choco...</td>\n",
              "      <td>soprano singer</td>\n",
              "      <td>['soprano']</td>\n",
              "      <td>NaN</td>\n",
              "      <td>soprano</td>\n",
              "      <td>2</td>\n",
              "      <td>christmas tree tada</td>\n",
              "      <td>['@ronen_shefer @JOHNRC2014 Thank you very mu...</td>\n",
              "      <td>sheer thank much need check fact right person ...</td>\n",
              "      <td>NaN</td>\n",
              "      <td>NaN</td>\n",
              "      <td>vienna romanticsanonymous</td>\n",
              "      <td>sheer thank much need check fact right person ...</td>\n",
              "      <td>sheer thank much need check fact right person ...</td>\n",
              "      <td>sheer thank much need check fact right person ...</td>\n",
              "    </tr>\n",
              "  </tbody>\n",
              "</table>\n",
              "<p>1314 rows × 18 columns</p>\n",
              "</div>"
            ],
            "text/plain": [
              "           username  ...                                        pre_pro_RHW\n",
              "0         GiGiHadid  ...  img models worldwide thing face right way exac...\n",
              "1     Cantguardmike  ...  fact call like month ago congratulation get re...\n",
              "2           IAMJHUD  ...  grammy win artist academy award win actress ne...\n",
              "3         lukajones  ...  actor thrill people earth philosophy reader ch...\n",
              "4           rcobb18  ...  faith creator life husband father son brother ...\n",
              "...             ...  ...                                                ...\n",
              "1309     ColinHanks  ...  old man pretty sweet chariot right well play m...\n",
              "1310     CraigyFerg  ...  tonight thursday june season premiere miss sus...\n",
              "1311   GeraldFinley  ...  interest ready edinburgh good morning edinburg...\n",
              "1312  Emily_Estefan  ...  post photo post photo three cheer brands baske...\n",
              "1313   NatashaMarsh  ...  sheer thank much need check fact right person ...\n",
              "\n",
              "[1314 rows x 18 columns]"
            ]
          },
          "metadata": {},
          "execution_count": 2
        }
      ]
    },
    {
      "cell_type": "code",
      "metadata": {
        "colab": {
          "base_uri": "https://localhost:8080/",
          "height": 610
        },
        "id": "_gnixS0cn3bl",
        "outputId": "33734efb-6883-43d8-ff91-e6a8387d85b3"
      },
      "source": [
        "from nltk.tokenize import RegexpTokenizer\n",
        "\n",
        "tokenizer = RegexpTokenizer(r'\\w+')\n",
        "\n",
        "data[\"tokens\"] =data[\"pre_pro_RH\"].apply(tokenizer.tokenize)\n",
        "data.head()"
      ],
      "execution_count": 16,
      "outputs": [
        {
          "output_type": "execute_result",
          "data": {
            "text/html": [
              "<div>\n",
              "<style scoped>\n",
              "    .dataframe tbody tr th:only-of-type {\n",
              "        vertical-align: middle;\n",
              "    }\n",
              "\n",
              "    .dataframe tbody tr th {\n",
              "        vertical-align: top;\n",
              "    }\n",
              "\n",
              "    .dataframe thead th {\n",
              "        text-align: right;\n",
              "    }\n",
              "</style>\n",
              "<table border=\"1\" class=\"dataframe\">\n",
              "  <thead>\n",
              "    <tr style=\"text-align: right;\">\n",
              "      <th></th>\n",
              "      <th>username</th>\n",
              "      <th>name</th>\n",
              "      <th>tweet</th>\n",
              "      <th>hashtags</th>\n",
              "      <th>Jobs</th>\n",
              "      <th>embed</th>\n",
              "      <th>bio</th>\n",
              "      <th>main_Job</th>\n",
              "      <th>CLUSTERS</th>\n",
              "      <th>emojie</th>\n",
              "      <th>tweet_comb</th>\n",
              "      <th>pre_pro</th>\n",
              "      <th>No_emo</th>\n",
              "      <th>bio_new</th>\n",
              "      <th>hashtags_subs</th>\n",
              "      <th>pre_pro_RHRW</th>\n",
              "      <th>pre_pro_RH</th>\n",
              "      <th>pre_pro_RHW</th>\n",
              "      <th>tokens</th>\n",
              "    </tr>\n",
              "  </thead>\n",
              "  <tbody>\n",
              "    <tr>\n",
              "      <th>0</th>\n",
              "      <td>GiGiHadid</td>\n",
              "      <td>Gigi Hadid</td>\n",
              "      <td>['few things 😋🙃😘', 'You were facing the right ...</td>\n",
              "      <td>giforce</td>\n",
              "      <td>model</td>\n",
              "      <td>['model']</td>\n",
              "      <td>IMG Models Worldwide. #giforce</td>\n",
              "      <td>model</td>\n",
              "      <td>2</td>\n",
              "      <td>sparkles</td>\n",
              "      <td>IMG Models Worldwide. #giforce ['few things ',...</td>\n",
              "      <td>img models worldwide thing face right way exac...</td>\n",
              "      <td>IMG Models Worldwide. #giforce</td>\n",
              "      <td>img models worldwide</td>\n",
              "      <td>giforce</td>\n",
              "      <td>img models worldwide thing face right way exac...</td>\n",
              "      <td>img models worldwide thing face right way exac...</td>\n",
              "      <td>img models worldwide thing face right way exac...</td>\n",
              "      <td>[img, models, worldwide, thing, face, right, w...</td>\n",
              "    </tr>\n",
              "    <tr>\n",
              "      <th>1</th>\n",
              "      <td>Cantguardmike</td>\n",
              "      <td>Michael William Thomas Jr.</td>\n",
              "      <td>['Facts !', '@jhardee_19 called it like 2 mont...</td>\n",
              "      <td>gobucks</td>\n",
              "      <td>football wide receiver</td>\n",
              "      <td>['receiver']</td>\n",
              "      <td>GOD GOT US</td>\n",
              "      <td>footballer</td>\n",
              "      <td>3</td>\n",
              "      <td>NaN</td>\n",
              "      <td>GOD GOT US ['Facts !', '@jhardee_19 called it ...</td>\n",
              "      <td>fact call like month ago congratulation get re...</td>\n",
              "      <td>GOD GOT US</td>\n",
              "      <td>NaN</td>\n",
              "      <td>gobucks</td>\n",
              "      <td>fact call like month ago congratulation get re...</td>\n",
              "      <td>fact call like month ago congratulation get re...</td>\n",
              "      <td>fact call like month ago congratulation get re...</td>\n",
              "      <td>[fact, call, like, month, ago, congratulation,...</td>\n",
              "    </tr>\n",
              "    <tr>\n",
              "      <th>2</th>\n",
              "      <td>IAMJHUD</td>\n",
              "      <td>Jennifer Hudson</td>\n",
              "      <td>['Team JHud, please help me wish my Virgo sist...</td>\n",
              "      <td>neverforget,baobabstudios,respectmovie,ebony,v...</td>\n",
              "      <td>singer , actress</td>\n",
              "      <td>['singer', 'actress']</td>\n",
              "      <td>Grammy winning Artist, Academy Award winning A...</td>\n",
              "      <td>singer actress</td>\n",
              "      <td>4</td>\n",
              "      <td>sparkles</td>\n",
              "      <td>Grammy winning Artist, Academy Award winning A...</td>\n",
              "      <td>grammy win artist academy award win actress ne...</td>\n",
              "      <td>Grammy winning Artist, Academy Award winning A...</td>\n",
              "      <td>grammy win artist academy award win actress ne...</td>\n",
              "      <td>business twitter</td>\n",
              "      <td>grammy win artist academy award win actress ne...</td>\n",
              "      <td>grammy win artist academy award win actress ne...</td>\n",
              "      <td>grammy win artist academy award win actress ne...</td>\n",
              "      <td>[grammy, win, artist, academy, award, win, act...</td>\n",
              "    </tr>\n",
              "    <tr>\n",
              "      <th>3</th>\n",
              "      <td>lukajones</td>\n",
              "      <td>Luka Jones</td>\n",
              "      <td>['@johnnypemberton Here we go 🏈', 'gracias for...</td>\n",
              "      <td>goclippers,rcjh,topcity,goblue,rcjh</td>\n",
              "      <td>actor , comedian</td>\n",
              "      <td>['actor', 'comedian']</td>\n",
              "      <td>actor (Shrill &amp; People of Earth both on @hulu)...</td>\n",
              "      <td>actor comedian</td>\n",
              "      <td>6</td>\n",
              "      <td>baseball football basketball</td>\n",
              "      <td>actor (Shrill &amp; People of Earth both on @hulu)...</td>\n",
              "      <td>actor thrill people earth philosophy reader ch...</td>\n",
              "      <td>actor (Shrill &amp; People of Earth both on @hulu)...</td>\n",
              "      <td>actor thrill people earth philosophy reader ch...</td>\n",
              "      <td>thrill people</td>\n",
              "      <td>actor thrill people earth philosophy reader ch...</td>\n",
              "      <td>actor thrill people earth philosophy reader ch...</td>\n",
              "      <td>actor thrill people earth philosophy reader ch...</td>\n",
              "      <td>[actor, thrill, people, earth, philosophy, rea...</td>\n",
              "    </tr>\n",
              "    <tr>\n",
              "      <th>4</th>\n",
              "      <td>rcobb18</td>\n",
              "      <td>Randall Cobb (American football)</td>\n",
              "      <td>['Man It Feels Good to Be a Packer  https://t....</td>\n",
              "      <td>mvp,ad,winitforted,jerseyswap,verzuz,ad,jersey...</td>\n",
              "      <td>football wide receiver</td>\n",
              "      <td>['receiver']</td>\n",
              "      <td>Faith in the Creator of Life. Husband. Father....</td>\n",
              "      <td>footballer</td>\n",
              "      <td>3</td>\n",
              "      <td>football</td>\n",
              "      <td>Faith in the Creator of Life. Husband. Father....</td>\n",
              "      <td>faith creator life husband father son brother ...</td>\n",
              "      <td>Faith in the Creator of Life. Husband. Father....</td>\n",
              "      <td>faith creator life husband father son brother ...</td>\n",
              "      <td>creator faith</td>\n",
              "      <td>faith creator life husband father son brother ...</td>\n",
              "      <td>faith creator life husband father son brother ...</td>\n",
              "      <td>faith creator life husband father son brother ...</td>\n",
              "      <td>[faith, creator, life, husband, father, son, b...</td>\n",
              "    </tr>\n",
              "  </tbody>\n",
              "</table>\n",
              "</div>"
            ],
            "text/plain": [
              "        username  ...                                             tokens\n",
              "0      GiGiHadid  ...  [img, models, worldwide, thing, face, right, w...\n",
              "1  Cantguardmike  ...  [fact, call, like, month, ago, congratulation,...\n",
              "2        IAMJHUD  ...  [grammy, win, artist, academy, award, win, act...\n",
              "3      lukajones  ...  [actor, thrill, people, earth, philosophy, rea...\n",
              "4        rcobb18  ...  [faith, creator, life, husband, father, son, b...\n",
              "\n",
              "[5 rows x 19 columns]"
            ]
          },
          "metadata": {},
          "execution_count": 16
        }
      ]
    },
    {
      "cell_type": "code",
      "metadata": {
        "colab": {
          "base_uri": "https://localhost:8080/"
        },
        "id": "xXMHiM_Rhr35",
        "outputId": "eb050189-8000-4a80-c758-634fd64a1690"
      },
      "source": [
        "from keras.preprocessing.text import Tokenizer\n",
        "from keras.preprocessing.sequence import pad_sequences\n",
        "from tensorflow.keras.utils import to_categorical\n",
        "\n",
        "all_words = [word for tokens in data[\"tokens\"] for word in tokens]\n",
        "sentence_lengths = [len(tokens) for tokens in data[\"tokens\"]]\n",
        "VOCAB = sorted(list(set(all_words)))\n",
        "print(\"%s words total, with a vocabulary size of %s\" % (len(all_words), len(VOCAB)))\n",
        "print(\"Max sentence length is %s\" % max(sentence_lengths))"
      ],
      "execution_count": 5,
      "outputs": [
        {
          "output_type": "stream",
          "name": "stdout",
          "text": [
            "342345 words total, with a vocabulary size of 22182\n",
            "Max sentence length is 884\n"
          ]
        }
      ]
    },
    {
      "cell_type": "code",
      "metadata": {
        "colab": {
          "base_uri": "https://localhost:8080/",
          "height": 606
        },
        "id": "DtbtPGC8igOe",
        "outputId": "61a4b769-69c7-4b74-9166-3afb57619fed"
      },
      "source": [
        "import matplotlib.pyplot as plt\n",
        "\n",
        "fig = plt.figure(figsize=(10, 10)) \n",
        "plt.xlabel('Sentence length')\n",
        "plt.ylabel('Number of sentences')\n",
        "plt.hist(sentence_lengths)\n",
        "plt.show()"
      ],
      "execution_count": 6,
      "outputs": [
        {
          "output_type": "display_data",
          "data": {
            "image/png": "[encoded data removed]",
            "text/plain": [
              "<Figure size 720x720 with 1 Axes>"
            ]
          },
          "metadata": {
            "needs_background": "light"
          }
        }
      ]
    },
    {
      "cell_type": "code",
      "metadata": {
        "id": "ai2B871kiyqG"
      },
      "source": [
        "from sklearn.model_selection import train_test_split\n",
        "from sklearn.feature_extraction.text import CountVectorizer, TfidfVectorizer\n",
        "\n",
        "X_train, X_test, y_train, y_test = train_test_split( data[\"pre_pro_RH\"].tolist(),data[\"CLUSTERS\"].tolist(), test_size=0.2, \n",
        "                                                                                random_state=40)"
      ],
      "execution_count": 17,
      "outputs": []
    },
    {
      "cell_type": "code",
      "metadata": {
        "id": "bA5yEG9Qj8Ks"
      },
      "source": [
        "\n",
        "import numpy as np\n",
        "import itertools\n",
        "from sklearn.metrics import confusion_matrix\n",
        "\n",
        "def plot_confusion_matrix(cm, classes,\n",
        "                          normalize=False,\n",
        "                          title='Confusion matrix',\n",
        "                          cmap=plt.cm.winter):\n",
        "    if normalize:\n",
        "        cm = cm.astype('float') / cm.sum(axis=1)[:, np.newaxis]\n",
        "    plt.imshow(cm, interpolation='nearest', cmap=cmap)\n",
        "    plt.title(title, fontsize=30)\n",
        "    plt.colorbar()\n",
        "    tick_marks = np.arange(len(classes))\n",
        "    plt.xticks(tick_marks, classes, fontsize=20)\n",
        "    plt.yticks(tick_marks, classes, fontsize=20)\n",
        "    \n",
        "    fmt = '.2f' if normalize else 'd'\n",
        "    thresh = cm.max() / 2.\n",
        "\n",
        "    for i, j in itertools.product(range(cm.shape[0]), range(cm.shape[1])):\n",
        "        plt.text(j, i, format(cm[i, j], fmt), horizontalalignment=\"center\", \n",
        "                 color=\"white\" if cm[i, j] < thresh else \"black\", fontsize=40)\n",
        "    \n",
        "    plt.tight_layout()\n",
        "    plt.ylabel('True label', fontsize=30)\n",
        "    plt.xlabel('Predicted label', fontsize=30)\n",
        "\n",
        "    return plt"
      ],
      "execution_count": 18,
      "outputs": []
    },
    {
      "cell_type": "code",
      "metadata": {
        "id": "KMJeSRI1Zwlb"
      },
      "source": [
        "from sklearn.metrics import accuracy_score, f1_score, precision_score, recall_score, classification_report\n",
        "\n",
        "def get_metrics(y_test, y_predicted):  \n",
        "    # true positives / (true positives+false positives)\n",
        "    precision = precision_score(y_test, y_predicted, pos_label=None,\n",
        "                                    average='weighted')             \n",
        "    # true positives / (true positives + false negatives)\n",
        "    recall = recall_score(y_test, y_predicted, pos_label=None,\n",
        "                              average='weighted')\n",
        "    \n",
        "    # harmonic mean of precision and recall\n",
        "    f1 = f1_score(y_test, y_predicted, pos_label=None, average='weighted')\n",
        "    \n",
        "    # true positives + true negatives/ total\n",
        "    accuracy = accuracy_score(y_test, y_predicted)\n",
        "    return accuracy, precision, recall, f1\n",
        "\n"
      ],
      "execution_count": 19,
      "outputs": []
    },
    {
      "cell_type": "code",
      "metadata": {
        "id": "-E_fn2fPkts7"
      },
      "source": [
        "def tfidf(data):\n",
        "    tfidf_vectorizer = TfidfVectorizer()\n",
        "\n",
        "    train = tfidf_vectorizer.fit_transform(data)\n",
        "\n",
        "    return train, tfidf_vectorizer\n",
        "\n",
        "X_train_tfidf, tfidf_vectorizer = tfidf(X_train)\n",
        "X_test_tfidf = tfidf_vectorizer.transform(X_test)"
      ],
      "execution_count": 20,
      "outputs": []
    },
    {
      "cell_type": "code",
      "metadata": {
        "id": "y5EuozETk438"
      },
      "source": [
        "from sklearn.metrics import accuracy_score, f1_score, precision_score, recall_score, classification_report\n",
        "from sklearn.linear_model import LogisticRegression\n",
        "import numpy as np\n",
        "import itertools\n",
        "from sklearn.metrics import confusion_matrix\n",
        "clf_tfidf = LogisticRegression(C=4.0, class_weight='balanced', solver='newton-cg', multi_class='multinomial', n_jobs=-1, random_state=40)\n",
        "clf_tfidf.fit(X_train_tfidf, y_train)\n",
        "y_predicted_tfidf = clf_tfidf.predict(X_test_tfidf)"
      ],
      "execution_count": 21,
      "outputs": []
    },
    {
      "cell_type": "code",
      "metadata": {
        "colab": {
          "base_uri": "https://localhost:8080/"
        },
        "id": "UhvRuAstk_DT",
        "outputId": "6e95531e-6668-465e-f6b4-e09b50193f0e"
      },
      "source": [
        "\n",
        "accuracy_tfidf, precision_tfidf, recall_tfidf, f1_tfidf = get_metrics(y_test, y_predicted_tfidf)\n",
        "print(\"accuracy = %.3f, precision = %.3f, recall = %.3f, f1 = %.3f\" % (accuracy_tfidf, precision_tfidf, \n",
        "                                                                       recall_tfidf, f1_tfidf))"
      ],
      "execution_count": 22,
      "outputs": [
        {
          "output_type": "stream",
          "name": "stdout",
          "text": [
            "accuracy = 0.540, precision = 0.510, recall = 0.540, f1 = 0.516\n"
          ]
        },
        {
          "output_type": "stream",
          "name": "stderr",
          "text": [
            "/usr/local/lib/python3.7/dist-packages/sklearn/metrics/_classification.py:1272: UndefinedMetricWarning: Precision is ill-defined and being set to 0.0 in labels with no predicted samples. Use `zero_division` parameter to control this behavior.\n",
            "  _warn_prf(average, modifier, msg_start, len(result))\n"
          ]
        }
      ]
    },
    {
      "cell_type": "code",
      "metadata": {
        "colab": {
          "base_uri": "https://localhost:8080/",
          "height": 897
        },
        "id": "Yvko8jVmlD_z",
        "outputId": "f4334e94-21f4-4ccd-b047-b889248d3df1"
      },
      "source": [
        "\n",
        "cm2 = confusion_matrix(y_test, y_predicted_tfidf)\n",
        "fig = plt.figure(figsize=(10, 10))\n",
        "plot = plot_confusion_matrix(cm2,classes=[0,1,2,3,4,5,6,7,8], normalize=False, title='Confusion matrix')\n",
        "plt.show()\n",
        "print(\"TFIDF confusion matrix\")\n",
        "print(cm2)"
      ],
      "execution_count": 23,
      "outputs": [
        {
          "output_type": "display_data",
          "data": {
            "image/png": "[encoded data removed]",
            "text/plain": [
              "<Figure size 720x720 with 2 Axes>"
            ]
          },
          "metadata": {
            "needs_background": "light"
          }
        },
        {
          "output_type": "stream",
          "name": "stdout",
          "text": [
            "TFIDF confusion matrix\n",
            "[[24  0  5  0 10  0  3  1  0]\n",
            " [ 0 10  7  2  2  2  6  0  0]\n",
            " [ 9  3 16  0  7  2  3  5  0]\n",
            " [ 0  0  0 15  0  2  1  1  0]\n",
            " [ 2  3  2  0 22  1  6  0  0]\n",
            " [ 0  0  0  1  0 18  1  2  0]\n",
            " [ 3  3  2  0  1  0 28  0  0]\n",
            " [ 2  1  2  0  2  0  0  9  0]\n",
            " [ 0  0  2  0  6  1  7  0  0]]\n"
          ]
        }
      ]
    }
  ]
}