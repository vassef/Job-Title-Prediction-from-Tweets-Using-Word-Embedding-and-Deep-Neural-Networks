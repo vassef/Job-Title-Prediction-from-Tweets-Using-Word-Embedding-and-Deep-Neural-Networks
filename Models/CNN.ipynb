{
  "nbformat": 4,
  "nbformat_minor": 0,
  "metadata": {
    "colab": {
      "name": "CNN.ipynb",
      "provenance": []
    },
    "kernelspec": {
      "name": "python3",
      "display_name": "Python 3"
    },
    "language_info": {
      "name": "python"
    }
  },
  "cells": [
    {
      "cell_type": "code",
      "metadata": {
        "colab": {
          "resources": {
            "http://localhost:8080/nbextensions/google.colab/files.js": {
              "data": "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",
              "ok": true,
              "headers": [
                [
                  "content-type",
                  "application/javascript"
                ]
              ],
              "status": 200,
              "status_text": ""
            }
          },
          "base_uri": "https://localhost:8080/",
          "height": 73
        },
        "id": "Ly_vBN7NcIjU",
        "outputId": "6ae5bdfd-0ef5-48cd-a544-0765891512f7"
      },
      "source": [
        "import pandas as pd\n",
        "from google.colab import files\n",
        "uploaded=files.upload()"
      ],
      "execution_count": 1,
      "outputs": [
        {
          "output_type": "display_data",
          "data": {
            "text/html": [
              "\n",
              "     <input type=\"file\" id=\"files-772e491f-92ea-40b6-9ea4-3738062aea00\" name=\"files[]\" multiple disabled\n",
              "        style=\"border:none\" />\n",
              "     <output id=\"result-772e491f-92ea-40b6-9ea4-3738062aea00\">\n",
              "      Upload widget is only available when the cell has been executed in the\n",
              "      current browser session. Please rerun this cell to enable.\n",
              "      </output>\n",
              "      <script src=\"/nbextensions/google.colab/files.js\"></script> "
            ],
            "text/plain": [
              "<IPython.core.display.HTML object>"
            ]
          },
          "metadata": {}
        },
        {
          "output_type": "stream",
          "name": "stdout",
          "text": [
            "Saving FDF.xlsx to FDF.xlsx\n"
          ]
        }
      ]
    },
    {
      "cell_type": "code",
      "metadata": {
        "colab": {
          "base_uri": "https://localhost:8080/",
          "height": 1000
        },
        "id": "ftg4tk1fcKdn",
        "outputId": "da98f778-5e90-4f3f-ee66-6794bc48c5c6"
      },
      "source": [
        "import io\n",
        "data=pd.read_excel(io.BytesIO(uploaded['FDF.xlsx']))\n",
        "data"
      ],
      "execution_count": 2,
      "outputs": [
        {
          "output_type": "execute_result",
          "data": {
            "text/html": [
              "<div>\n",
              "<style scoped>\n",
              "    .dataframe tbody tr th:only-of-type {\n",
              "        vertical-align: middle;\n",
              "    }\n",
              "\n",
              "    .dataframe tbody tr th {\n",
              "        vertical-align: top;\n",
              "    }\n",
              "\n",
              "    .dataframe thead th {\n",
              "        text-align: right;\n",
              "    }\n",
              "</style>\n",
              "<table border=\"1\" class=\"dataframe\">\n",
              "  <thead>\n",
              "    <tr style=\"text-align: right;\">\n",
              "      <th></th>\n",
              "      <th>username</th>\n",
              "      <th>name</th>\n",
              "      <th>tweet</th>\n",
              "      <th>hashtags</th>\n",
              "      <th>Jobs</th>\n",
              "      <th>embed</th>\n",
              "      <th>bio</th>\n",
              "      <th>main_Job</th>\n",
              "      <th>CLUSTERS</th>\n",
              "      <th>emojie</th>\n",
              "      <th>tweet_comb</th>\n",
              "      <th>pre_pro</th>\n",
              "      <th>No_emo</th>\n",
              "      <th>bio_new</th>\n",
              "      <th>hashtags_subs</th>\n",
              "      <th>pre_pro_RHRW</th>\n",
              "      <th>pre_pro_RH</th>\n",
              "      <th>pre_pro_RHW</th>\n",
              "    </tr>\n",
              "  </thead>\n",
              "  <tbody>\n",
              "    <tr>\n",
              "      <th>0</th>\n",
              "      <td>GiGiHadid</td>\n",
              "      <td>Gigi Hadid</td>\n",
              "      <td>['few things 😋🙃😘', 'You were facing the right ...</td>\n",
              "      <td>giforce</td>\n",
              "      <td>model</td>\n",
              "      <td>['model']</td>\n",
              "      <td>IMG Models Worldwide. #giforce</td>\n",
              "      <td>model</td>\n",
              "      <td>2</td>\n",
              "      <td>sparkles</td>\n",
              "      <td>IMG Models Worldwide. #giforce ['few things ',...</td>\n",
              "      <td>img models worldwide thing face right way exac...</td>\n",
              "      <td>IMG Models Worldwide. #giforce</td>\n",
              "      <td>img models worldwide</td>\n",
              "      <td>giforce</td>\n",
              "      <td>img models worldwide thing face right way exac...</td>\n",
              "      <td>img models worldwide thing face right way exac...</td>\n",
              "      <td>img models worldwide thing face right way exac...</td>\n",
              "    </tr>\n",
              "    <tr>\n",
              "      <th>1</th>\n",
              "      <td>Cantguardmike</td>\n",
              "      <td>Michael William Thomas Jr.</td>\n",
              "      <td>['Facts !', '@jhardee_19 called it like 2 mont...</td>\n",
              "      <td>gobucks</td>\n",
              "      <td>football wide receiver</td>\n",
              "      <td>['receiver']</td>\n",
              "      <td>GOD GOT US</td>\n",
              "      <td>footballer</td>\n",
              "      <td>3</td>\n",
              "      <td>NaN</td>\n",
              "      <td>GOD GOT US ['Facts !', '@jhardee_19 called it ...</td>\n",
              "      <td>fact call like month ago congratulation get re...</td>\n",
              "      <td>GOD GOT US</td>\n",
              "      <td>NaN</td>\n",
              "      <td>gobucks</td>\n",
              "      <td>fact call like month ago congratulation get re...</td>\n",
              "      <td>fact call like month ago congratulation get re...</td>\n",
              "      <td>fact call like month ago congratulation get re...</td>\n",
              "    </tr>\n",
              "    <tr>\n",
              "      <th>2</th>\n",
              "      <td>IAMJHUD</td>\n",
              "      <td>Jennifer Hudson</td>\n",
              "      <td>['Team JHud, please help me wish my Virgo sist...</td>\n",
              "      <td>neverforget,baobabstudios,respectmovie,ebony,v...</td>\n",
              "      <td>singer , actress</td>\n",
              "      <td>['singer', 'actress']</td>\n",
              "      <td>Grammy winning Artist, Academy Award winning A...</td>\n",
              "      <td>singer actress</td>\n",
              "      <td>4</td>\n",
              "      <td>sparkles</td>\n",
              "      <td>Grammy winning Artist, Academy Award winning A...</td>\n",
              "      <td>grammy win artist academy award win actress ne...</td>\n",
              "      <td>Grammy winning Artist, Academy Award winning A...</td>\n",
              "      <td>grammy win artist academy award win actress ne...</td>\n",
              "      <td>business twitter</td>\n",
              "      <td>grammy win artist academy award win actress ne...</td>\n",
              "      <td>grammy win artist academy award win actress ne...</td>\n",
              "      <td>grammy win artist academy award win actress ne...</td>\n",
              "    </tr>\n",
              "    <tr>\n",
              "      <th>3</th>\n",
              "      <td>lukajones</td>\n",
              "      <td>Luka Jones</td>\n",
              "      <td>['@johnnypemberton Here we go 🏈', 'gracias for...</td>\n",
              "      <td>goclippers,rcjh,topcity,goblue,rcjh</td>\n",
              "      <td>actor , comedian</td>\n",
              "      <td>['actor', 'comedian']</td>\n",
              "      <td>actor (Shrill &amp; People of Earth both on @hulu)...</td>\n",
              "      <td>actor comedian</td>\n",
              "      <td>6</td>\n",
              "      <td>baseball football basketball</td>\n",
              "      <td>actor (Shrill &amp; People of Earth both on @hulu)...</td>\n",
              "      <td>actor thrill people earth philosophy reader ch...</td>\n",
              "      <td>actor (Shrill &amp; People of Earth both on @hulu)...</td>\n",
              "      <td>actor thrill people earth philosophy reader ch...</td>\n",
              "      <td>thrill people</td>\n",
              "      <td>actor thrill people earth philosophy reader ch...</td>\n",
              "      <td>actor thrill people earth philosophy reader ch...</td>\n",
              "      <td>actor thrill people earth philosophy reader ch...</td>\n",
              "    </tr>\n",
              "    <tr>\n",
              "      <th>4</th>\n",
              "      <td>rcobb18</td>\n",
              "      <td>Randall Cobb (American football)</td>\n",
              "      <td>['Man It Feels Good to Be a Packer  https://t....</td>\n",
              "      <td>mvp,ad,winitforted,jerseyswap,verzuz,ad,jersey...</td>\n",
              "      <td>football wide receiver</td>\n",
              "      <td>['receiver']</td>\n",
              "      <td>Faith in the Creator of Life. Husband. Father....</td>\n",
              "      <td>footballer</td>\n",
              "      <td>3</td>\n",
              "      <td>football</td>\n",
              "      <td>Faith in the Creator of Life. Husband. Father....</td>\n",
              "      <td>faith creator life husband father son brother ...</td>\n",
              "      <td>Faith in the Creator of Life. Husband. Father....</td>\n",
              "      <td>faith creator life husband father son brother ...</td>\n",
              "      <td>creator faith</td>\n",
              "      <td>faith creator life husband father son brother ...</td>\n",
              "      <td>faith creator life husband father son brother ...</td>\n",
              "      <td>faith creator life husband father son brother ...</td>\n",
              "    </tr>\n",
              "    <tr>\n",
              "      <th>...</th>\n",
              "      <td>...</td>\n",
              "      <td>...</td>\n",
              "      <td>...</td>\n",
              "      <td>...</td>\n",
              "      <td>...</td>\n",
              "      <td>...</td>\n",
              "      <td>...</td>\n",
              "      <td>...</td>\n",
              "      <td>...</td>\n",
              "      <td>...</td>\n",
              "      <td>...</td>\n",
              "      <td>...</td>\n",
              "      <td>...</td>\n",
              "      <td>...</td>\n",
              "      <td>...</td>\n",
              "      <td>...</td>\n",
              "      <td>...</td>\n",
              "      <td>...</td>\n",
              "    </tr>\n",
              "    <tr>\n",
              "      <th>1309</th>\n",
              "      <td>ColinHanks</td>\n",
              "      <td>Colin Hanks</td>\n",
              "      <td>['@PFTompkins The old man has a pretty sweet c...</td>\n",
              "      <td>hankskerchiefs,hankskerchiefs,beready,beready,tbt</td>\n",
              "      <td>actor , producer , director</td>\n",
              "      <td>['actor', 'producer']</td>\n",
              "      <td>NaN</td>\n",
              "      <td>actor producer</td>\n",
              "      <td>6</td>\n",
              "      <td>NaN</td>\n",
              "      <td>['@PFTompkins The old man has a pretty sweet ...</td>\n",
              "      <td>old man pretty sweet chariot right well play m...</td>\n",
              "      <td>NaN</td>\n",
              "      <td>NaN</td>\n",
              "      <td>official com</td>\n",
              "      <td>old man pretty sweet chariot right well play m...</td>\n",
              "      <td>old man pretty sweet chariot right well play m...</td>\n",
              "      <td>old man pretty sweet chariot right well play m...</td>\n",
              "    </tr>\n",
              "    <tr>\n",
              "      <th>1310</th>\n",
              "      <td>CraigyFerg</td>\n",
              "      <td>Craig Ferguson</td>\n",
              "      <td>['Tonight! @TheHustlerABC @ABCNetwork #thecrai...</td>\n",
              "      <td>thecraigfergusonshow,thecraigfergusonshow,theh...</td>\n",
              "      <td>actor , author , comedian , television host</td>\n",
              "      <td>['actor', 'author']</td>\n",
              "      <td>NaN</td>\n",
              "      <td>actor author</td>\n",
              "      <td>1</td>\n",
              "      <td>NaN</td>\n",
              "      <td>['Tonight! @TheHustlerABC @ABCNetwork #thecra...</td>\n",
              "      <td>tonight thursday june season premiere miss sus...</td>\n",
              "      <td>NaN</td>\n",
              "      <td>NaN</td>\n",
              "      <td>instagram thehustler</td>\n",
              "      <td>tonight thursday june season premiere miss sus...</td>\n",
              "      <td>tonight thursday june season premiere miss sus...</td>\n",
              "      <td>tonight thursday june season premiere miss sus...</td>\n",
              "    </tr>\n",
              "    <tr>\n",
              "      <th>1311</th>\n",
              "      <td>GeraldFinley</td>\n",
              "      <td>Gerald Finley</td>\n",
              "      <td>['@Twiz007 @DonaldMacleod01 @juliusdrake @edin...</td>\n",
              "      <td>bluebeardscastle,otello,otello,dongiovanni,don...</td>\n",
              "      <td>baritone opera singer</td>\n",
              "      <td>['singer']</td>\n",
              "      <td>NaN</td>\n",
              "      <td>singer</td>\n",
              "      <td>2</td>\n",
              "      <td>christmas tree</td>\n",
              "      <td>['@Twiz007 @DonaldMacleod01 @juliusdrake @edi...</td>\n",
              "      <td>interest ready edinburgh good morning edinburg...</td>\n",
              "      <td>NaN</td>\n",
              "      <td>NaN</td>\n",
              "      <td>dongiovanni com</td>\n",
              "      <td>interest ready edinburgh good morning edinburg...</td>\n",
              "      <td>interest ready edinburgh good morning edinburg...</td>\n",
              "      <td>interest ready edinburgh good morning edinburg...</td>\n",
              "    </tr>\n",
              "    <tr>\n",
              "      <th>1312</th>\n",
              "      <td>Emily_Estefan</td>\n",
              "      <td>Emily Estefan</td>\n",
              "      <td>['Just posted a photo  https://t.co/ck0baQ3egI...</td>\n",
              "      <td>damnitnova,davenavarro,imissmyband,purplemoney...</td>\n",
              "      <td>singer</td>\n",
              "      <td>['singer']</td>\n",
              "      <td>NaN</td>\n",
              "      <td>singer</td>\n",
              "      <td>2</td>\n",
              "      <td>NaN</td>\n",
              "      <td>['Just posted a photo  https://t.co/ck0baQ3eg...</td>\n",
              "      <td>post photo post photo three cheer brands baske...</td>\n",
              "      <td>NaN</td>\n",
              "      <td>NaN</td>\n",
              "      <td>com official</td>\n",
              "      <td>post photo post photo three cheer brands baske...</td>\n",
              "      <td>post photo post photo three cheer brands baske...</td>\n",
              "      <td>post photo post photo three cheer brands baske...</td>\n",
              "    </tr>\n",
              "    <tr>\n",
              "      <th>1313</th>\n",
              "      <td>NatashaMarsh</td>\n",
              "      <td>Natasha Marsh</td>\n",
              "      <td>['@ronen_shefer @JOHNRC2014 Thank you very muc...</td>\n",
              "      <td>fawales,romanticsanonymous,shinewalk2017,choco...</td>\n",
              "      <td>soprano singer</td>\n",
              "      <td>['soprano']</td>\n",
              "      <td>NaN</td>\n",
              "      <td>soprano</td>\n",
              "      <td>2</td>\n",
              "      <td>christmas tree tada</td>\n",
              "      <td>['@ronen_shefer @JOHNRC2014 Thank you very mu...</td>\n",
              "      <td>sheer thank much need check fact right person ...</td>\n",
              "      <td>NaN</td>\n",
              "      <td>NaN</td>\n",
              "      <td>vienna romanticsanonymous</td>\n",
              "      <td>sheer thank much need check fact right person ...</td>\n",
              "      <td>sheer thank much need check fact right person ...</td>\n",
              "      <td>sheer thank much need check fact right person ...</td>\n",
              "    </tr>\n",
              "  </tbody>\n",
              "</table>\n",
              "<p>1314 rows × 18 columns</p>\n",
              "</div>"
            ],
            "text/plain": [
              "           username  ...                                        pre_pro_RHW\n",
              "0         GiGiHadid  ...  img models worldwide thing face right way exac...\n",
              "1     Cantguardmike  ...  fact call like month ago congratulation get re...\n",
              "2           IAMJHUD  ...  grammy win artist academy award win actress ne...\n",
              "3         lukajones  ...  actor thrill people earth philosophy reader ch...\n",
              "4           rcobb18  ...  faith creator life husband father son brother ...\n",
              "...             ...  ...                                                ...\n",
              "1309     ColinHanks  ...  old man pretty sweet chariot right well play m...\n",
              "1310     CraigyFerg  ...  tonight thursday june season premiere miss sus...\n",
              "1311   GeraldFinley  ...  interest ready edinburgh good morning edinburg...\n",
              "1312  Emily_Estefan  ...  post photo post photo three cheer brands baske...\n",
              "1313   NatashaMarsh  ...  sheer thank much need check fact right person ...\n",
              "\n",
              "[1314 rows x 18 columns]"
            ]
          },
          "metadata": {},
          "execution_count": 2
        }
      ]
    },
    {
      "cell_type": "code",
      "metadata": {
        "id": "wY1OePKbcMvW"
      },
      "source": [
        "import numpy as np\n",
        "import tensorflow as tf\n",
        "from tensorflow import keras\n",
        "from sklearn.model_selection import train_test_split\n",
        "train_samples, val_samples, train_labels, val_labels = train_test_split(data.pre_pro_RHRW,data.CLUSTERS.to_list(), \n",
        "                                                                                        test_size=0.2, random_state=40)"
      ],
      "execution_count": 43,
      "outputs": []
    },
    {
      "cell_type": "code",
      "metadata": {
        "colab": {
          "base_uri": "https://localhost:8080/"
        },
        "id": "RzCep6_FcPAX",
        "outputId": "ad3656eb-6979-4a69-c64b-5e64afd8ae63"
      },
      "source": [
        "!wget http://nlp.stanford.edu/data/glove.6B.zip"
      ],
      "execution_count": 4,
      "outputs": [
        {
          "output_type": "stream",
          "name": "stdout",
          "text": [
            "--2021-09-23 21:01:58--  http://nlp.stanford.edu/data/glove.6B.zip\n",
            "Resolving nlp.stanford.edu (nlp.stanford.edu)... 171.64.67.140\n",
            "Connecting to nlp.stanford.edu (nlp.stanford.edu)|171.64.67.140|:80... connected.\n",
            "HTTP request sent, awaiting response... 302 Found\n",
            "Location: https://nlp.stanford.edu/data/glove.6B.zip [following]\n",
            "--2021-09-23 21:01:58--  https://nlp.stanford.edu/data/glove.6B.zip\n",
            "Connecting to nlp.stanford.edu (nlp.stanford.edu)|171.64.67.140|:443... connected.\n",
            "HTTP request sent, awaiting response... 301 Moved Permanently\n",
            "Location: http://downloads.cs.stanford.edu/nlp/data/glove.6B.zip [following]\n",
            "--2021-09-23 21:01:59--  http://downloads.cs.stanford.edu/nlp/data/glove.6B.zip\n",
            "Resolving downloads.cs.stanford.edu (downloads.cs.stanford.edu)... 171.64.64.22\n",
            "Connecting to downloads.cs.stanford.edu (downloads.cs.stanford.edu)|171.64.64.22|:80... connected.\n",
            "HTTP request sent, awaiting response... 200 OK\n",
            "Length: 862182613 (822M) [application/zip]\n",
            "Saving to: ‘glove.6B.zip’\n",
            "\n",
            "glove.6B.zip        100%[===================>] 822.24M  4.24MB/s    in 6m 1s   \n",
            "\n",
            "2021-09-23 21:08:02 (2.28 MB/s) - ‘glove.6B.zip’ saved [862182613/862182613]\n",
            "\n"
          ]
        }
      ]
    },
    {
      "cell_type": "code",
      "metadata": {
        "id": "C79FbCXLcdT-"
      },
      "source": [
        "!unzip -q glove.6B.zip"
      ],
      "execution_count": 5,
      "outputs": []
    },
    {
      "cell_type": "code",
      "metadata": {
        "colab": {
          "base_uri": "https://localhost:8080/"
        },
        "id": "1B27zIkgcpgm",
        "outputId": "b523a74b-ce16-41db-9fce-545b81000124"
      },
      "source": [
        "embeddings_index = {}\n",
        "with open('glove.6B.100d.txt') as f:\n",
        "    for line in f:\n",
        "        word, coefs = line.split(maxsplit=1)\n",
        "        coefs = np.fromstring(coefs, \"f\", sep=\" \")\n",
        "        embeddings_index[word] = coefs\n",
        "\n",
        "print(\"Found %s word vectors.\" % len(embeddings_index))"
      ],
      "execution_count": 44,
      "outputs": [
        {
          "output_type": "stream",
          "name": "stdout",
          "text": [
            "Found 400000 word vectors.\n"
          ]
        }
      ]
    },
    {
      "cell_type": "code",
      "metadata": {
        "id": "9YAOWqrcfwJs"
      },
      "source": [
        "from tensorflow.keras.layers import TextVectorization\n",
        "\n",
        "vectorizer = TextVectorization(max_tokens=20000, output_sequence_length=200)\n",
        "text_ds = tf.data.Dataset.from_tensor_slices(train_samples).batch(128)\n",
        "vectorizer.adapt(text_ds)"
      ],
      "execution_count": 45,
      "outputs": []
    },
    {
      "cell_type": "code",
      "metadata": {
        "id": "qwyy8qNufpct"
      },
      "source": [
        "voc = vectorizer.get_vocabulary()\n",
        "word_index = dict(zip(voc, range(len(voc))))"
      ],
      "execution_count": 46,
      "outputs": []
    },
    {
      "cell_type": "code",
      "metadata": {
        "colab": {
          "base_uri": "https://localhost:8080/"
        },
        "id": "PIG6I_kzcsGO",
        "outputId": "dadeeeaf-298a-4508-ad7a-12845a563e62"
      },
      "source": [
        "num_tokens = len(voc) + 2\n",
        "embedding_dim = 100\n",
        "hits = 0\n",
        "misses = 0\n",
        "\n",
        "# Prepare embedding matrix\n",
        "embedding_matrix = np.zeros((num_tokens, embedding_dim))\n",
        "for word, i in word_index.items():\n",
        "    embedding_vector = embeddings_index.get(word)\n",
        "    if embedding_vector is not None:\n",
        "        embedding_matrix[i] = embedding_vector\n",
        "        hits += 1\n",
        "    else:\n",
        "        misses += 1\n",
        "print(\"Converted %d words (%d misses)\" % (hits, misses))"
      ],
      "execution_count": 47,
      "outputs": [
        {
          "output_type": "stream",
          "name": "stdout",
          "text": [
            "Converted 16183 words (3614 misses)\n"
          ]
        }
      ]
    },
    {
      "cell_type": "code",
      "metadata": {
        "id": "uahkZHlNcvQO"
      },
      "source": [
        "from tensorflow.keras.layers import Embedding\n",
        "\n",
        "embedding_layer = Embedding(\n",
        "    num_tokens,\n",
        "    embedding_dim,\n",
        "    embeddings_initializer=keras.initializers.Constant(embedding_matrix),\n",
        "    trainable=False,\n",
        ")"
      ],
      "execution_count": 48,
      "outputs": []
    },
    {
      "cell_type": "code",
      "metadata": {
        "colab": {
          "base_uri": "https://localhost:8080/"
        },
        "id": "pjUWJQeecxOO",
        "outputId": "1569ace3-f11e-401e-e36c-85e961de83e8"
      },
      "source": [
        "from tensorflow.keras import layers\n",
        "\n",
        "int_sequences_input = keras.Input(shape=(None,), dtype=\"int64\")\n",
        "embedded_sequences = embedding_layer(int_sequences_input)\n",
        "x = layers.Conv1D(128, 4, activation=\"relu\")(embedded_sequences)\n",
        "x = layers.MaxPooling1D(3)(x)\n",
        "x = layers.Conv1D(128, 4, activation=\"relu\")(x)\n",
        "x = layers.MaxPooling1D(4)(x)\n",
        "x = layers.Conv1D(128, 4, activation=\"relu\")(x)\n",
        "x = layers.GlobalMaxPooling1D()(x)\n",
        "x = layers.Dense(128, activation=\"relu\")(x)\n",
        "x = layers.Dropout(0.5)(x)\n",
        "preds = layers.Dense(9, activation=\"softmax\")(x)\n",
        "model = keras.Model(int_sequences_input, preds)\n",
        "model.summary()"
      ],
      "execution_count": 60,
      "outputs": [
        {
          "output_type": "stream",
          "name": "stdout",
          "text": [
            "Model: \"model_8\"\n",
            "_________________________________________________________________\n",
            "Layer (type)                 Output Shape              Param #   \n",
            "=================================================================\n",
            "input_9 (InputLayer)         [(None, None)]            0         \n",
            "_________________________________________________________________\n",
            "embedding_3 (Embedding)      (None, None, 100)         1979900   \n",
            "_________________________________________________________________\n",
            "conv1d_24 (Conv1D)           (None, None, 128)         51328     \n",
            "_________________________________________________________________\n",
            "max_pooling1d_16 (MaxPooling (None, None, 128)         0         \n",
            "_________________________________________________________________\n",
            "conv1d_25 (Conv1D)           (None, None, 128)         65664     \n",
            "_________________________________________________________________\n",
            "max_pooling1d_17 (MaxPooling (None, None, 128)         0         \n",
            "_________________________________________________________________\n",
            "conv1d_26 (Conv1D)           (None, None, 128)         65664     \n",
            "_________________________________________________________________\n",
            "global_max_pooling1d_8 (Glob (None, 128)               0         \n",
            "_________________________________________________________________\n",
            "dense_16 (Dense)             (None, 128)               16512     \n",
            "_________________________________________________________________\n",
            "dropout_8 (Dropout)          (None, 128)               0         \n",
            "_________________________________________________________________\n",
            "dense_17 (Dense)             (None, 9)                 1161      \n",
            "=================================================================\n",
            "Total params: 2,180,229\n",
            "Trainable params: 200,329\n",
            "Non-trainable params: 1,979,900\n",
            "_________________________________________________________________\n"
          ]
        }
      ]
    },
    {
      "cell_type": "code",
      "metadata": {
        "colab": {
          "base_uri": "https://localhost:8080/",
          "height": 1000
        },
        "id": "Dh_3_eRnczXW",
        "outputId": "4c25c766-1ca5-473b-860f-c2c7f1831af7"
      },
      "source": [
        "from keras.utils.vis_utils import plot_model\n",
        "plot_model(model, to_file='model_CNN.png', show_shapes=True, show_layer_names=True)"
      ],
      "execution_count": 61,
      "outputs": [
        {
          "output_type": "execute_result",
          "data": {
            "image/png": "[encoded data removed]",
            "text/plain": [
              "<IPython.core.display.Image object>"
            ]
          },
          "metadata": {},
          "execution_count": 61
        }
      ]
    },
    {
      "cell_type": "code",
      "metadata": {
        "id": "AkuplU0oc172"
      },
      "source": [
        "x_train = vectorizer(np.array([[s] for s in train_samples])).numpy()\n",
        "x_val = vectorizer(np.array([[s] for s in val_samples])).numpy()\n",
        "\n",
        "y_train = np.array(train_labels)\n",
        "y_val = np.array(val_labels)"
      ],
      "execution_count": 62,
      "outputs": []
    },
    {
      "cell_type": "code",
      "metadata": {
        "colab": {
          "base_uri": "https://localhost:8080/"
        },
        "id": "fhYBTdxcc7RG",
        "outputId": "f02e5038-2105-4b5d-e871-f8d00559b940"
      },
      "source": [
        "model.compile(\n",
        "    loss=\"sparse_categorical_crossentropy\", optimizer=\"rmsprop\", metrics=[\"acc\"]\n",
        ")\n",
        "model.fit(x_train, y_train, batch_size=64, epochs=15, validation_data=(x_val, y_val))"
      ],
      "execution_count": 64,
      "outputs": [
        {
          "output_type": "stream",
          "name": "stdout",
          "text": [
            "Epoch 1/15\n",
            "17/17 [==============================] - 3s 135ms/step - loss: 1.4864 - acc: 0.5880 - val_loss: 1.9482 - val_acc: 0.2586\n",
            "Epoch 2/15\n",
            "17/17 [==============================] - 2s 113ms/step - loss: 0.9066 - acc: 0.7383 - val_loss: 1.8398 - val_acc: 0.2662\n",
            "Epoch 3/15\n",
            "17/17 [==============================] - 2s 114ms/step - loss: 0.7372 - acc: 0.7793 - val_loss: 2.0930 - val_acc: 0.2395\n",
            "Epoch 4/15\n",
            "17/17 [==============================] - 2s 114ms/step - loss: 0.6887 - acc: 0.8040 - val_loss: 2.0343 - val_acc: 0.2586\n",
            "Epoch 5/15\n",
            "17/17 [==============================] - 2s 114ms/step - loss: 0.6077 - acc: 0.8411 - val_loss: 2.1981 - val_acc: 0.2814\n",
            "Epoch 6/15\n",
            "17/17 [==============================] - 2s 113ms/step - loss: 0.5244 - acc: 0.8696 - val_loss: 1.8447 - val_acc: 0.3384\n",
            "Epoch 7/15\n",
            "17/17 [==============================] - 2s 115ms/step - loss: 0.4650 - acc: 0.8972 - val_loss: 2.0388 - val_acc: 0.3460\n",
            "Epoch 8/15\n",
            "17/17 [==============================] - 2s 113ms/step - loss: 0.3654 - acc: 0.9144 - val_loss: 3.1818 - val_acc: 0.1407\n",
            "Epoch 9/15\n",
            "17/17 [==============================] - 2s 114ms/step - loss: 0.4233 - acc: 0.8925 - val_loss: 2.3687 - val_acc: 0.3004\n",
            "Epoch 10/15\n",
            "17/17 [==============================] - 2s 114ms/step - loss: 0.3515 - acc: 0.9172 - val_loss: 2.0961 - val_acc: 0.3612\n",
            "Epoch 11/15\n",
            "17/17 [==============================] - 2s 114ms/step - loss: 0.3759 - acc: 0.9068 - val_loss: 1.8348 - val_acc: 0.3916\n",
            "Epoch 12/15\n",
            "17/17 [==============================] - 2s 112ms/step - loss: 0.1284 - acc: 0.9829 - val_loss: 3.2659 - val_acc: 0.2510\n",
            "Epoch 13/15\n",
            "17/17 [==============================] - 2s 112ms/step - loss: 0.2852 - acc: 0.9258 - val_loss: 2.1118 - val_acc: 0.3688\n",
            "Epoch 14/15\n",
            "17/17 [==============================] - 2s 115ms/step - loss: 0.4233 - acc: 0.9058 - val_loss: 1.8969 - val_acc: 0.3916\n",
            "Epoch 15/15\n",
            "17/17 [==============================] - 2s 114ms/step - loss: 0.0765 - acc: 0.9933 - val_loss: 1.8541 - val_acc: 0.3878\n"
          ]
        },
        {
          "output_type": "execute_result",
          "data": {
            "text/plain": [
              "<keras.callbacks.History at 0x7f5689c2c850>"
            ]
          },
          "metadata": {},
          "execution_count": 64
        }
      ]
    },
    {
      "cell_type": "code",
      "metadata": {
        "colab": {
          "base_uri": "https://localhost:8080/"
        },
        "id": "XRqQs9j0iOUU",
        "outputId": "75040c92-f0dc-430e-85d7-3d39eee78f92"
      },
      "source": [
        "from sklearn import metrics\n",
        "predicted = np.argmax(model.predict(x_val),axis=1)#model_DNN.predict_class(X_test_tfidf)\n",
        "print(metrics.classification_report(y_val, predicted))"
      ],
      "execution_count": 65,
      "outputs": [
        {
          "output_type": "stream",
          "name": "stdout",
          "text": [
            "              precision    recall  f1-score   support\n",
            "\n",
            "           0       0.56      0.51      0.54        43\n",
            "           1       0.40      0.41      0.41        29\n",
            "           2       0.35      0.24      0.29        45\n",
            "           3       0.44      0.63      0.52        19\n",
            "           4       0.36      0.28      0.31        36\n",
            "           5       0.44      0.32      0.37        22\n",
            "           6       0.29      0.51      0.37        37\n",
            "           7       0.41      0.56      0.47        16\n",
            "           8       0.00      0.00      0.00        16\n",
            "\n",
            "    accuracy                           0.39       263\n",
            "   macro avg       0.36      0.39      0.36       263\n",
            "weighted avg       0.38      0.39      0.37       263\n",
            "\n"
          ]
        }
      ]
    }
  ]
}